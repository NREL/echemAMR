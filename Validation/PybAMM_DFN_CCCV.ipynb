{
 "cells": [
  {
   "cell_type": "markdown",
   "id": "851d6654",
   "metadata": {},
   "source": [
    "# Import libraries"
   ]
  },
  {
   "cell_type": "code",
   "execution_count": 1,
   "id": "7c159932",
   "metadata": {},
   "outputs": [
    {
     "name": "stderr",
     "output_type": "stream",
     "text": [
      "ERROR: Invalid requirement: '#'\n"
     ]
    },
    {
     "name": "stdout",
     "output_type": "stream",
     "text": [
      "Note: you may need to restart the kernel to use updated packages.\n"
     ]
    }
   ],
   "source": [
    "%pip install pybamm # install PyBaMM if it is not installed\n",
    "import pybamm\n",
    "import numpy as np\n",
    "import matplotlib.pyplot as plt\n",
    "import csv"
   ]
  },
  {
   "cell_type": "code",
   "execution_count": 2,
   "id": "002d85ba",
   "metadata": {},
   "outputs": [
    {
     "data": {
      "text/plain": [
       "['C:\\\\Users\\\\fussegli\\\\Anaconda3\\\\lib\\\\site-packages',\n",
       " 'C:\\\\Users\\\\fussegli',\n",
       " 'C:\\\\Users\\\\fussegli\\\\Anaconda3\\\\lib\\\\site-packages\\\\pybamm\\\\input\\\\parameters']"
      ]
     },
     "execution_count": 2,
     "metadata": {},
     "output_type": "execute_result"
    }
   ],
   "source": [
    "pybamm.PARAMETER_PATH"
   ]
  },
  {
   "cell_type": "markdown",
   "id": "1f269075",
   "metadata": {},
   "source": [
    "**PyBaMM** (Python Battery Mathematical Modelling) solves physics-based electrochemical DAE models by using state-of-the-art automatic differentiation and numerical solvers.  \n",
    "Repository: https://github.com/pybamm-team/PyBaMM"
   ]
  },
  {
   "cell_type": "code",
   "execution_count": 3,
   "id": "906442a1",
   "metadata": {},
   "outputs": [
    {
     "name": "stdout",
     "output_type": "stream",
     "text": [
      "[1] Charles R. Harris, K. Jarrod Millman, Stéfan J. van der Walt, Ralf Gommers, Pauli Virtanen, David Cournapeau, Eric Wieser, Julian Taylor, Sebastian Berg, Nathaniel J. Smith, and others. Array programming with NumPy. Nature, 585(7825):357–362, 2020. doi:10.1038/s41586-020-2649-2.\n",
      "[2] Valentin Sulzer, Scott G. Marquis, Robert Timms, Martin Robinson, and S. Jon Chapman. Python Battery Mathematical Modelling (PyBaMM). Journal of Open Research Software, 9(1):14, 2021. doi:10.5334/jors.309.\n",
      "\n"
     ]
    }
   ],
   "source": [
    "pybamm.print_citations()"
   ]
  },
  {
   "cell_type": "markdown",
   "id": "1977c62a",
   "metadata": {},
   "source": [
    "# Set model"
   ]
  },
  {
   "cell_type": "markdown",
   "id": "75f97a8c",
   "metadata": {},
   "source": [
    "## Choose model: Doyle-Fuller-Newman (DFN)"
   ]
  },
  {
   "cell_type": "markdown",
   "id": "9f438c5d",
   "metadata": {},
   "source": [
    "### Select options  \n",
    "Read documentation for more details https://pybamm.readthedocs.io/en/latest/source/models/base_models/base_battery_model.html"
   ]
  },
  {
   "cell_type": "code",
   "execution_count": 4,
   "id": "4be78a6a",
   "metadata": {},
   "outputs": [],
   "source": [
    "# Intercalation reaction\n",
    "options = {\"intercalation kinetics\": \"symmetric Butler-Volmer\"} #  “symmetric Butler-Volmer” (default), “asymmetric Butler-Volmer”, “linear”, “Marcus”, or “Marcus-Hush-Chidsey”\n",
    "# Thermal\n",
    "options[\"thermal\"] = \"isothermal\" # “isothermal” (default), “lumped”, “x-lumped”, or “x-full”.\n",
    "options[\"calculate heat source for isothermal models\"] = \"false\" # “false” (default) or “true”.\n",
    "# Mechanics\n",
    "options[\"particle mechanics\"] = \"none\" # none” (default), “swelling only”, or “swelling and cracking”\n",
    "options[\"stress-induced diffusion\"] = \"false\" # “false” (default) or “true”. False if particle mechanics is none, true otherwise.\n",
    "# Degradation\n",
    "options[\"loss of active material\"] = \"none\" #  “none” (default), “stress-driven”, “reaction-driven”, or “stress and reaction-driven”\n",
    "options[\"lithium plating\"] = \"none\" #  “none” (default), “reversible”, “partially reversible”, or “irreversible”.\n",
    "options[\"SEI\"] = \"none\" # “none”, \"constant\",reaction limited”, “solvent-diffusion limited”, “electron-migration limited”, “interstitial-diffusion limited”, or “ec reaction limited”\n",
    "options[\"SEI film resistance\"] = \"none\" # “none”, \"distributed\", \"average\"\n",
    "options[\"SEI porosity change\"] = \"false\" # “false” (default) or “true”.\n",
    "# Applied Loading\n",
    "options[\"operating mode\"] = \"current\" #  “current” (default), “voltage”/”power”/”resistance”, “differential power”/”differential resistance”, “explicit power”/”explicit resistance”, “CCCV”.\n",
    "options[\"working electrode\"] = \"both\" # “both” (default) full cell, “negative” or “positive” to indicate a half-cell model.\n",
    "# Particle description\n",
    "options[\"particle\"] = \"Fickian diffusion\" #  “Fickian diffusion” (default), “uniform profile”, “quadratic profile”, or “quartic profile”.\n",
    "options[\"particle shape\"] = \"spherical\" # “spherical” (default), or “no particles”, ()\"user\" ?)\n",
    "options[\"particle size\"] = \"single\" # “single” (default) or “distribution”"
   ]
  },
  {
   "cell_type": "code",
   "execution_count": 5,
   "id": "528e2ba9",
   "metadata": {},
   "outputs": [
    {
     "data": {
      "text/plain": [
       "{'intercalation kinetics': 'symmetric Butler-Volmer',\n",
       " 'thermal': 'isothermal',\n",
       " 'calculate heat source for isothermal models': 'false',\n",
       " 'particle mechanics': 'none',\n",
       " 'stress-induced diffusion': 'false',\n",
       " 'loss of active material': 'none',\n",
       " 'lithium plating': 'none',\n",
       " 'SEI': 'none',\n",
       " 'SEI film resistance': 'none',\n",
       " 'SEI porosity change': 'false',\n",
       " 'operating mode': 'current',\n",
       " 'working electrode': 'both',\n",
       " 'particle': 'Fickian diffusion',\n",
       " 'particle shape': 'spherical',\n",
       " 'particle size': 'single'}"
      ]
     },
     "execution_count": 5,
     "metadata": {},
     "output_type": "execute_result"
    }
   ],
   "source": [
    "options"
   ]
  },
  {
   "cell_type": "markdown",
   "id": "514a78b8",
   "metadata": {},
   "source": [
    "### Create model"
   ]
  },
  {
   "cell_type": "code",
   "execution_count": 6,
   "id": "724a2b8f",
   "metadata": {},
   "outputs": [],
   "source": [
    "model = pybamm.lithium_ion.DFN(options=options)"
   ]
  },
  {
   "cell_type": "markdown",
   "id": "55d89177",
   "metadata": {},
   "source": [
    "## Choose parameters"
   ]
  },
  {
   "cell_type": "code",
   "execution_count": 7,
   "id": "330910ea",
   "metadata": {},
   "outputs": [],
   "source": [
    "parameter_values = pybamm.ParameterValues(\"Chen2020\")\n",
    "#parameter_values = model.default_parameter_values"
   ]
  },
  {
   "cell_type": "markdown",
   "id": "9e6a62bc",
   "metadata": {},
   "source": [
    "### Thickness"
   ]
  },
  {
   "cell_type": "code",
   "execution_count": 8,
   "id": "ce7eea6a",
   "metadata": {},
   "outputs": [],
   "source": [
    "# Thickness [m]\n",
    "Neg_cc_thickness = 2.5e-05\n",
    "Neg_electrode_thickness = 49.95e-6\n",
    "Sep_thickness = 9.99e-6\n",
    "Pos_electrode_thickness = 49.95e-6\n",
    "Pos_cc_thickness = 2.5e-05\n",
    "# Height and width [m]\n",
    "Electrode_height = 66.6e-6\n",
    "Electrode_width = 66.6e-6\n",
    "\n",
    "# Cell volume is deduced from above thickness and dimensions [m3]\n",
    "full_thickness = Neg_cc_thickness + Neg_electrode_thickness + Sep_thickness + Pos_electrode_thickness + Pos_cc_thickness\n",
    "cell_volume = full_thickness * Electrode_height * Electrode_width\n",
    "\n",
    "# Update parameters\n",
    "parameter_values.update({\"Negative electrode thickness [m]\": Neg_electrode_thickness})\n",
    "parameter_values.update({\"Separator thickness [m]\": Sep_thickness})\n",
    "parameter_values.update({\"Positive electrode thickness [m]\": Pos_electrode_thickness})\n",
    "parameter_values.update({\"Negative current collector thickness [m]\": Neg_cc_thickness})\n",
    "parameter_values.update({\"Positive current collector thickness [m]\": Pos_cc_thickness})\n",
    "parameter_values.update({\"Electrode height [m]\": Electrode_height})\n",
    "parameter_values.update({\"Electrode width [m]\": Electrode_width})\n",
    "parameter_values.update({\"Cell volume [m3]\": cell_volume})"
   ]
  },
  {
   "cell_type": "markdown",
   "id": "82af8304",
   "metadata": {},
   "source": [
    "### Microstructure parameters"
   ]
  },
  {
   "cell_type": "code",
   "execution_count": 9,
   "id": "dc94e456",
   "metadata": {},
   "outputs": [],
   "source": [
    "# Porosity\n",
    "Neg_electrode_porosity = 0.3847\n",
    "Pos_electrode_porosity = 0.3847\n",
    "Sep_porosity = 1.0\n",
    "\n",
    "# Active material volume fraction\n",
    "Neg_electrode_AM = 1-Neg_electrode_porosity\n",
    "Pos_electrode_AM = 1-Pos_electrode_porosity\n",
    "\n",
    "# Radius [m]\n",
    "Neg_particle_radius = 4.662e-6 # CPSD: 7.968/2=3.984, pixel number: 4.662e-6, EDMF: 10.35/2=5.18\n",
    "Pos_particle_radius = Neg_particle_radius\n",
    "\n",
    "# Bruggeman exponent\n",
    "Ele_Neg_p = 1.602\n",
    "Ele_Pos_p = 1.602\n",
    "Sep_p = 1.0\n",
    "\n",
    "# Update parameters\n",
    "parameter_values.update({\"Negative electrode porosity\": Neg_electrode_porosity})\n",
    "parameter_values.update({\"Separator porosity\": Sep_porosity})\n",
    "parameter_values.update({\"Positive electrode porosity\": Pos_electrode_porosity})\n",
    "\n",
    "parameter_values.update({\"Negative electrode active material volume fraction\": Neg_electrode_AM})\n",
    "parameter_values.update({\"Positive electrode active material volume fraction\": Pos_electrode_AM})\n",
    "\n",
    "parameter_values.update({\"Negative particle radius [m]\": Neg_particle_radius})\n",
    "parameter_values.update({\"Positive particle radius [m]\": Pos_particle_radius})\n",
    "\n",
    "parameter_values.update({\"Negative electrode Bruggeman coefficient (electrolyte)\": Ele_Neg_p})\n",
    "parameter_values.update({\"Positive electrode Bruggeman coefficient (electrolyte)\": Ele_Pos_p})\n",
    "parameter_values.update({\"Separator Bruggeman coefficient (electrolyte)\": Sep_p})"
   ]
  },
  {
   "cell_type": "markdown",
   "id": "ddf6992d",
   "metadata": {},
   "source": [
    "### Material coefficients"
   ]
  },
  {
   "cell_type": "markdown",
   "id": "233f013b",
   "metadata": {},
   "source": [
    "#### Anode"
   ]
  },
  {
   "cell_type": "code",
   "execution_count": 10,
   "id": "d45921e1",
   "metadata": {},
   "outputs": [],
   "source": [
    "# Maximum concentration [mol.m-3]\n",
    "Neg_Csmax = 28000.0 \n",
    "\n",
    "# Conducitvity [S.m-1]\n",
    "Neg_AM_conductivity = 100\n",
    "\n",
    "# Diffusivity [m2.s-1]\n",
    "Neg_AM_diffusivity = 1.0e-14\n",
    "\n",
    "# OCP [V]\n",
    "def Neg_OCP(sto):\n",
    "    a7 = -201.8048\n",
    "    a6 = 730.918\n",
    "    a5 = -1074.645\n",
    "    a4 = 825.0173\n",
    "    a3 = -354.3316\n",
    "    a2 = 84.66978\n",
    "    a1 = -10.57909\n",
    "    a0 = 0.6848288\n",
    "    u_eq = ((((((a7*sto+a6)*sto+a5)*sto+a4)*sto+a3)*sto+a2)*sto+a1)*sto+a0\n",
    "    #a = (0.1-1.0)/(1-0)\n",
    "    #b = 1.0\n",
    "    #u_eq = a * sto + b\n",
    "    return u_eq\n",
    "\n",
    "# Exchange-current density [A.m-2] \n",
    "def Neg_io(c_e, c_s_surf, T):\n",
    "    #cs_max = Parameter(\"Maximum concentration in negative electrode [mol.m-3]\")\n",
    "    cs_max = 28000.0 # [mol.m-3]\n",
    "    return 1.076 * 11 * (c_e/1000)** 0.5 * (c_s_surf/cs_max)** 0.5 * (1-c_s_surf/cs_max)** 0.5\n",
    "\n",
    "# Update parameters\n",
    "parameter_values.update({\"Negative electrode conductivity [S.m-1]\": Neg_AM_conductivity})\n",
    "parameter_values.update({\"Negative electrode diffusivity [m2.s-1]\": Neg_AM_diffusivity})\n",
    "parameter_values.update({\"Negative electrode OCP [V]\": Neg_OCP})\n",
    "parameter_values.update({\"Negative electrode exchange-current density [A.m-2]\": Neg_io})\n"
   ]
  },
  {
   "cell_type": "markdown",
   "id": "ca76ea73",
   "metadata": {},
   "source": [
    "#### Cathode"
   ]
  },
  {
   "cell_type": "code",
   "execution_count": 11,
   "id": "e1fde6e0",
   "metadata": {},
   "outputs": [],
   "source": [
    "# Maximum concentration [mol.m-3]\n",
    "Pos_Csmax = 49600.0\n",
    "\n",
    "# Conducitvity [S.m-1]\n",
    "Pos_AM_conductivity = 10\n",
    "\n",
    "# Diffusivity [m2.s-1]\n",
    "Pos_AM_diffusivity = 1.0e-15\n",
    "\n",
    "# OCP [V]\n",
    "def Pos_OCP(sto):\n",
    "    a3 = -1.371166\n",
    "    a2 = 3.9033218\n",
    "    a1 = -4.3438781\n",
    "    a0 = 5.3701447\n",
    "    u_eq = ((a3*sto+a2)*sto+a1)*sto+a0;    \n",
    "    #a = 2\n",
    "    #b = -4\n",
    "    #c = 5\n",
    "    #u_eq = a*sto*sto + b*sto + c\n",
    "    return u_eq\n",
    "\n",
    "# Exchange-current density [A.m-2] \n",
    "def Pos_io(c_e, c_s_surf, T):\n",
    "    #cs_max = Parameter(\"Maximum concentration in positive electrode [mol.m-3]\")\n",
    "    cs_max = 49600 # [mol.m-3]\n",
    "    return 1.076 * 7 * (c_e/1000)** 0.5 * (c_s_surf/cs_max)** 0.5 * (1-c_s_surf/cs_max)** 0.5\n",
    "    \n",
    "# Update parameters\n",
    "parameter_values.update({\"Positive electrode conductivity [S.m-1]\": Pos_AM_conductivity})\n",
    "parameter_values.update({\"Positive electrode diffusivity [m2.s-1]\": Pos_AM_diffusivity})\n",
    "parameter_values.update({\"Positive electrode OCP [V]\": Pos_OCP})\n",
    "parameter_values.update({\"Positive electrode exchange-current density [A.m-2]\": Pos_io})"
   ]
  },
  {
   "cell_type": "markdown",
   "id": "95514814",
   "metadata": {},
   "source": [
    "#### Electrolyte"
   ]
  },
  {
   "cell_type": "code",
   "execution_count": 12,
   "id": "6a796149",
   "metadata": {},
   "outputs": [],
   "source": [
    "# Transference number\n",
    "Ele_tplus = 0.0\n",
    "\n",
    "# 1+activity coefficient (i.e., 1 + dlnf/dlnc)\n",
    "Ac_plus_one = 0.0\n",
    "\n",
    "# Conducitvity [S.m-1]\n",
    "Ele_conductivity = 1.0\n",
    "def Ele_f_conductivity(c_e, foo1):\n",
    "    a0 = 0.0\n",
    "    a1 = 0.002184643837703\n",
    "    a2 = -1.577170931848559e-06\n",
    "    a3 = 4.120782790092705e-10\n",
    "    a4 = -4.443882945301638e-14\n",
    "    a5 = 1.558277114134419e-18\n",
    "    return a0 + a1*c_e + a2*(c_e**2) + a3*(c_e**3) + a4*(c_e**4) + a5*(c_e**5)\n",
    "\n",
    "# Diffusivity [m2.s-1]\n",
    "Ele_diffusivity = 1.0e-10 \n",
    "def Ele_f_diffusivity(c_e, foo1):\n",
    "    a0 = 3.409857e-10\n",
    "    a1 = -2.553199e-13\n",
    "    a2 = 9.229720e-17\n",
    "    a3 = -2.249695e-20\n",
    "    a4 = 3.510337e-24\n",
    "    a5 = -2.369022e-28\n",
    "    return a0 + a1*c_e + a2*(c_e**2) + a3*(c_e**3) + a4*(c_e**4) + a5*(c_e**5)\n",
    "\n",
    "# Update parameters\n",
    "parameter_values.update({\"Cation transference number\": Ele_tplus})\n",
    "parameter_values.update({\"1 + dlnf/dlnc\": Ac_plus_one})\n",
    "parameter_values.update({\"Electrolyte conductivity [S.m-1]\": Ele_conductivity})\n",
    "parameter_values.update({\"Electrolyte diffusivity [m2.s-1]\": Ele_f_diffusivity})\n"
   ]
  },
  {
   "cell_type": "markdown",
   "id": "dcdc4fad",
   "metadata": {},
   "source": [
    "### Initial conditions"
   ]
  },
  {
   "cell_type": "code",
   "execution_count": 13,
   "id": "6a83679d",
   "metadata": {},
   "outputs": [],
   "source": [
    "# Initial concentration [mol.m-3]\n",
    "Sep_c_at_rest = 1200.0\n",
    "Neg_C_ini = 0.1*Neg_Csmax\n",
    "Pos_C_ini = 0.9*Pos_Csmax\n",
    "# SOC range\n",
    "Neg_SOCrange = 1.0-0.0\n",
    "Pos_SOCrange = 1.0-0.4\n",
    "\n",
    "# Update parameters\n",
    "parameter_values.update({\"Maximum concentration in negative electrode [mol.m-3]\": Neg_Csmax})\n",
    "parameter_values.update({\"Maximum concentration in positive electrode [mol.m-3]\": Pos_Csmax})\n",
    "parameter_values.update({\"Typical electrolyte concentration [mol.m-3]\": Sep_c_at_rest})\n",
    "\n",
    "parameter_values.update({\"Initial concentration in negative electrode [mol.m-3]\": Neg_C_ini})\n",
    "parameter_values.update({\"Initial concentration in positive electrode [mol.m-3]\": Pos_C_ini})\n",
    "parameter_values.update({\"Initial concentration in electrolyte [mol.m-3]\": Sep_c_at_rest})"
   ]
  },
  {
   "cell_type": "markdown",
   "id": "8a58fe44",
   "metadata": {},
   "source": [
    "### Applied current and cut-off voltage"
   ]
  },
  {
   "cell_type": "code",
   "execution_count": 14,
   "id": "b397b65f",
   "metadata": {},
   "outputs": [],
   "source": [
    "# C-rate\n",
    "Crate = 6.0\n",
    "low_cutoff = 0.5 # [V]\n",
    "high_cutoff = 5.0 # [V]\n",
    "\n",
    "# Active material volume [m3]\n",
    "Neg_volume = Neg_electrode_thickness * Electrode_height * Electrode_width * Neg_electrode_AM\n",
    "Pos_volume = Pos_electrode_thickness * Electrode_height * Electrode_width * Pos_electrode_AM\n",
    "# Faraday constant [C.mol-1]\n",
    "Fday = 96485.332 \n",
    "\n",
    "# Capacity [C]\n",
    "Neg_theoritical_capacity = Neg_volume * Neg_Csmax * Fday\n",
    "Pos_theoritical_capacity = Pos_volume * Pos_Csmax * Fday\n",
    "Neg_pratical_capacity = Neg_theoritical_capacity * Neg_SOCrange\n",
    "Pos_pratical_capacity = Pos_theoritical_capacity * Pos_SOCrange\n",
    "Cell_pratical_capacity = np.min([Neg_pratical_capacity,Pos_pratical_capacity])\n",
    "Cell_NP_ratio = Neg_pratical_capacity/Pos_pratical_capacity\n",
    "Nominal_cell_capacity_Ah = Cell_pratical_capacity*3600\n",
    "\n",
    "# Applied current\n",
    "t_charge = 1/Crate * 3600 # [s]\n",
    "current_1C = Cell_pratical_capacity/3600 # [A]\n",
    "Applied_current = -current_1C * Crate # [A]\n",
    "\n",
    "# Update parameters\n",
    "parameter_values.update({\"Typical current [A]\": Applied_current})\n",
    "parameter_values.update({\"Current function [A]\": Applied_current})\n",
    "parameter_values.update({\"Nominal cell capacity [A.h]\": Nominal_cell_capacity_Ah})\n",
    "parameter_values.update({\"Lower voltage cut-off [V]\": low_cutoff})\n",
    "parameter_values.update({\"Upper voltage cut-off [V]\": high_cutoff})"
   ]
  },
  {
   "cell_type": "code",
   "execution_count": 15,
   "id": "5d879e3b",
   "metadata": {},
   "outputs": [
    {
     "data": {
      "text/plain": [
       "-6.138170427217434e-07"
      ]
     },
     "execution_count": 15,
     "metadata": {},
     "output_type": "execute_result"
    }
   ],
   "source": [
    "Applied_current"
   ]
  },
  {
   "cell_type": "markdown",
   "id": "f5e7916c",
   "metadata": {},
   "source": [
    "### List parameters"
   ]
  },
  {
   "cell_type": "code",
   "execution_count": 16,
   "id": "7e381cd5",
   "metadata": {},
   "outputs": [
    {
     "name": "stdout",
     "output_type": "stream",
     "text": [
      "PARAMETER                                                                                   VALUE\n",
      "-------------------------------------------------------------------------------------------------\n",
      "Negative current collector thickness [m]                                                  2.5e-05\n",
      "Negative electrode thickness [m]                                                        4.995e-05\n",
      "Separator thickness [m]                                                                  9.99e-06\n",
      "Positive electrode thickness [m]                                                        4.995e-05\n",
      "Positive current collector thickness [m]                                                  2.5e-05\n",
      "Electrode height [m]                                                                     6.66e-05\n",
      "Electrode width [m]                                                                      6.66e-05\n",
      "Cell cooling surface area [m2]                                                            0.00531\n",
      "Cell volume [m3]                                                             7.092016884000002e-13\n",
      "Negative current collector conductivity [S.m-1]                                        58411000.0\n",
      "Positive current collector conductivity [S.m-1]                                        36914000.0\n",
      "Negative current collector density [kg.m-3]                                                8960.0\n",
      "Positive current collector density [kg.m-3]                                                2700.0\n",
      "Negative current collector specific heat capacity [J.kg-1.K-1]                              385.0\n",
      "Positive current collector specific heat capacity [J.kg-1.K-1]                              897.0\n",
      "Negative current collector thermal conductivity [W.m-1.K-1]                                 401.0\n",
      "Positive current collector thermal conductivity [W.m-1.K-1]                                 237.0\n",
      "Nominal cell capacity [A.h]                                                     1.325844812278966\n",
      "Typical current [A]                                                          -6.138170427217434e-07\n",
      "Current function [A]                                                         -6.138170427217434e-07\n",
      "Negative electrode conductivity [S.m-1]                                                       100\n",
      "Maximum concentration in negative electrode [mol.m-3]                                     28000.0\n",
      "Negative electrode diffusivity [m2.s-1]                                                     1e-14\n",
      "Negative electrode OCP [V]                                                   <function Neg_OCP at 0x000002285F6B6EE0>\n",
      "Negative electrode porosity                                                                0.3847\n",
      "Negative electrode active material volume fraction                                         0.6153\n",
      "Negative particle radius [m]                                                            4.662e-06\n",
      "Negative electrode Bruggeman coefficient (electrolyte)                                      1.602\n",
      "Negative electrode Bruggeman coefficient (electrode)                                          1.5\n",
      "Negative electrode cation signed stoichiometry                                               -1.0\n",
      "Negative electrode electrons in reaction                                                      1.0\n",
      "Negative electrode charge transfer coefficient                                                0.5\n",
      "Negative electrode double-layer capacity [F.m-2]                                              0.2\n",
      "Negative electrode exchange-current density [A.m-2]                          <function Neg_io at 0x000002285F6DC5E0>\n",
      "Negative electrode density [kg.m-3]                                                        1657.0\n",
      "Negative electrode specific heat capacity [J.kg-1.K-1]                                      700.0\n",
      "Negative electrode thermal conductivity [W.m-1.K-1]                                           1.7\n",
      "Negative electrode OCP entropic change [V.K-1]                                                0.0\n",
      "Positive electrode conductivity [S.m-1]                                                        10\n",
      "Maximum concentration in positive electrode [mol.m-3]                                     49600.0\n",
      "Positive electrode diffusivity [m2.s-1]                                                     1e-15\n",
      "Positive electrode OCP [V]                                                   <function Pos_OCP at 0x000002285F6DCA60>\n",
      "Positive electrode porosity                                                                0.3847\n",
      "Positive electrode active material volume fraction                                         0.6153\n",
      "Positive particle radius [m]                                                            4.662e-06\n",
      "Positive electrode Bruggeman coefficient (electrolyte)                                      1.602\n",
      "Positive electrode Bruggeman coefficient (electrode)                                          1.5\n",
      "Positive electrode cation signed stoichiometry                                               -1.0\n",
      "Positive electrode electrons in reaction                                                      1.0\n",
      "Positive electrode charge transfer coefficient                                                0.5\n",
      "Positive electrode double-layer capacity [F.m-2]                                              0.2\n",
      "Positive electrode exchange-current density [A.m-2]                          <function Pos_io at 0x000002285F6DC040>\n",
      "Positive electrode density [kg.m-3]                                                        3262.0\n",
      "Positive electrode specific heat capacity [J.kg-1.K-1]                                      700.0\n",
      "Positive electrode thermal conductivity [W.m-1.K-1]                                           2.1\n",
      "Positive electrode OCP entropic change [V.K-1]                                                0.0\n",
      "Separator porosity                                                                            1.0\n",
      "Separator Bruggeman coefficient (electrolyte)                                                 1.0\n",
      "Separator density [kg.m-3]                                                                  397.0\n",
      "Separator specific heat capacity [J.kg-1.K-1]                                               700.0\n",
      "Separator thermal conductivity [W.m-1.K-1]                                                   0.16\n",
      "Typical electrolyte concentration [mol.m-3]                                                1200.0\n",
      "Cation transference number                                                                    0.0\n",
      "1 + dlnf/dlnc                                                                                 0.0\n",
      "Electrolyte diffusivity [m2.s-1]                                             <function Ele_f_diffusivity at 0x000002285F6CB4C0>\n",
      "Electrolyte conductivity [S.m-1]                                                              1.0\n",
      "Reference temperature [K]                                                                  298.15\n",
      "Total heat transfer coefficient [W.m-2.K-1]                                                  10.0\n",
      "Ambient temperature [K]                                                                    298.15\n",
      "Number of electrodes connected in parallel to make a cell                                     1.0\n",
      "Number of cells connected in series to make a battery                                         1.0\n",
      "Lower voltage cut-off [V]                                                                     0.5\n",
      "Upper voltage cut-off [V]                                                                     5.0\n",
      "Initial concentration in negative electrode [mol.m-3]                                      2800.0\n",
      "Initial concentration in positive electrode [mol.m-3]                                     44640.0\n",
      "Initial concentration in electrolyte [mol.m-3]                                             1200.0\n",
      "Initial temperature [K]                                                                    298.15\n",
      "Inner SEI reaction proportion                                                                 0.5\n",
      "Inner SEI partial molar volume [m3.mol-1]                                               9.585e-05\n",
      "Outer SEI partial molar volume [m3.mol-1]                                               9.585e-05\n",
      "SEI reaction exchange current density [A.m-2]                                             1.5e-07\n",
      "SEI resistivity [Ohm.m]                                                                  200000.0\n",
      "Outer SEI solvent diffusivity [m2.s-1]                                       2.5000000000000002e-22\n",
      "Bulk solvent concentration [mol.m-3]                                                       2636.0\n",
      "Ratio of inner and outer SEI exchange current densities                                       1.0\n",
      "Inner SEI open-circuit potential [V]                                                          0.1\n",
      "Outer SEI open-circuit potential [V]                                                          0.8\n",
      "Inner SEI electron conductivity [S.m-1]                                                  8.95e-14\n",
      "Inner SEI lithium interstitial diffusivity [m2.s-1]                                         1e-20\n",
      "Lithium interstitial reference concentration [mol.m-3]                                       15.0\n",
      "Initial inner SEI thickness [m]                                                           2.5e-09\n",
      "Initial outer SEI thickness [m]                                                           2.5e-09\n",
      "EC initial concentration in electrolyte [mol.m-3]                                          4541.0\n",
      "EC diffusivity [m2.s-1]                                                                     2e-18\n",
      "SEI kinetic rate constant [m.s-1]                                                           1e-12\n",
      "SEI open-circuit potential [V]                                                                0.4\n",
      "Negative electrode reaction-driven LAM factor [m3.mol-1]                                      0.0\n",
      "Positive electrode reaction-driven LAM factor [m3.mol-1]                                      0.0\n"
     ]
    }
   ],
   "source": [
    "format_str = '{:<75}  {:>20}'\n",
    "print(format_str.format('PARAMETER', 'VALUE'))\n",
    "print(\"-\"*97)\n",
    "for key, value in parameter_values.items():\n",
    "    try:\n",
    "        print(format_str.format(key, value))\n",
    "    except TypeError:\n",
    "        print(format_str.format(key, value.__str__()))"
   ]
  },
  {
   "cell_type": "markdown",
   "id": "32eb2fb9",
   "metadata": {},
   "source": [
    "* You can explore a variety of parameters, listed under < parameter_values >.\n",
    "* You can search using keyword < parameter_values >.variables.search(\"electrolyte\")."
   ]
  },
  {
   "cell_type": "code",
   "execution_count": 17,
   "id": "ee34a619",
   "metadata": {},
   "outputs": [],
   "source": [
    "#parameter_values"
   ]
  },
  {
   "cell_type": "code",
   "execution_count": 18,
   "id": "146cf48a",
   "metadata": {},
   "outputs": [
    {
     "data": {
      "text/plain": [
       "<function __main__.Neg_OCP(sto)>"
      ]
     },
     "execution_count": 18,
     "metadata": {},
     "output_type": "execute_result"
    }
   ],
   "source": [
    "parameter_values[\"Negative electrode OCP [V]\"]"
   ]
  },
  {
   "cell_type": "code",
   "execution_count": 19,
   "id": "92fe03f1",
   "metadata": {},
   "outputs": [],
   "source": [
    "# parameter_values.search(\"utilisation\")"
   ]
  },
  {
   "cell_type": "markdown",
   "id": "ecc828de",
   "metadata": {},
   "source": [
    "### Applied loading"
   ]
  },
  {
   "cell_type": "markdown",
   "id": "72c6246f",
   "metadata": {},
   "source": [
    "experiment = pybamm.Experiment(\n",
    "    [\n",
    "        (\"Charge at 0.5 A until 4.1 V\",\n",
    "        \"Hold at 4.1 V until 50 mA\")\n",
    "    ]\n",
    ")"
   ]
  },
  {
   "cell_type": "code",
   "execution_count": 20,
   "id": "d0fcc1ce",
   "metadata": {},
   "outputs": [],
   "source": [
    "experiment_cycling = pybamm.Experiment(\n",
    "    [\n",
    "        (\"Discharge at C/10 for 10 hours or until 3.3 V\",\n",
    "        \"Rest for 1 hour\",\n",
    "        \"Charge at 1 A until 4.1 V\",\n",
    "        \"Hold at 4.1 V until 50 mA\",\n",
    "        \"Rest for 1 hour\"),\n",
    "    ] * 1\n",
    ")\n",
    "\n",
    "experiment_CC_CV = pybamm.Experiment(\n",
    "    [\n",
    "        (\"Charge at 0.352 A until 4.2 V\",\n",
    "        \"Hold at 4.2 V until 50 mA\"),\n",
    "    ] * 1\n",
    ")\n",
    "\n",
    "experiment_CC = pybamm.Experiment(\n",
    "    [\n",
    "        (\"Charge at 0.352 A until 4.2 V\"),\n",
    "    ] * 1\n",
    ")"
   ]
  },
  {
   "cell_type": "markdown",
   "id": "d6e6ac06",
   "metadata": {},
   "source": [
    "## Solver options"
   ]
  },
  {
   "cell_type": "markdown",
   "id": "885be89e",
   "metadata": {},
   "source": [
    "Documentation: https://pybamm.readthedocs.io/en/latest/source/solvers/index.html"
   ]
  },
  {
   "cell_type": "code",
   "execution_count": 21,
   "id": "d28283f2",
   "metadata": {},
   "outputs": [],
   "source": [
    "solver = pybamm.CasadiSolver(atol=1e-7, rtol=1e-7, mode=\"safe\",dt_max=1.0)"
   ]
  },
  {
   "cell_type": "markdown",
   "id": "3e6939ea",
   "metadata": {},
   "source": [
    "## Mesh options"
   ]
  },
  {
   "cell_type": "code",
   "execution_count": 22,
   "id": "47a1fd3a",
   "metadata": {},
   "outputs": [],
   "source": [
    "var_pts = {\n",
    "    \"x_n\": 150,  # negative electrode\n",
    "    \"x_s\": 30,  # separator \n",
    "    \"x_p\": 150,  # positive electrode\n",
    "    \"r_n\": 100,  # negative particle\n",
    "    \"r_p\": 100,  # positive particle\n",
    "}\n",
    "\n",
    "#var_pts = {\n",
    "#    \"x_n\": 50,  # negative electrode\n",
    "#    \"x_s\": 10,  # separator \n",
    "#    \"x_p\": 50,  # positive electrode\n",
    "#    \"r_n\": 15,  # negative particle\n",
    "#    \"r_p\": 15,  # positive particle\n",
    "#}"
   ]
  },
  {
   "cell_type": "markdown",
   "id": "bf685822",
   "metadata": {},
   "source": [
    "## Solve model"
   ]
  },
  {
   "cell_type": "code",
   "execution_count": 23,
   "id": "d27f6102",
   "metadata": {},
   "outputs": [],
   "source": [
    "#sim = pybamm.Simulation(model,parameter_values=parameter_values,experiment=experiment_CC_CV,solver=solver,var_pts=var_pts)\n",
    "sim = pybamm.Simulation(model,parameter_values=parameter_values,solver=solver,var_pts=var_pts)"
   ]
  },
  {
   "cell_type": "code",
   "execution_count": 24,
   "id": "c1e259bd",
   "metadata": {},
   "outputs": [
    {
     "data": {
      "text/plain": [
       "<pybamm.solvers.solution.Solution at 0x22862f91ac0>"
      ]
     },
     "execution_count": 24,
     "metadata": {},
     "output_type": "execute_result"
    }
   ],
   "source": [
    "#sim.solve()\n",
    "t_eval = np.linspace(0, 100, 100*10)\n",
    "\n",
    "#t_eval = np.linspace(0, 200, 200)\n",
    "\n",
    "\n",
    "sim.solve(t_eval)"
   ]
  },
  {
   "cell_type": "markdown",
   "id": "9d909858",
   "metadata": {},
   "source": [
    "# Post-processing"
   ]
  },
  {
   "cell_type": "markdown",
   "id": "13364be7",
   "metadata": {},
   "source": [
    "There are two variables for most quantities. This is because PyBaMM utilises both _dimensionless_ and _dimensional_ variables for these quantities.  \n",
    "* You can explore a variety of outputs, listed under < model >.variable_names.\n",
    "* You can search using keyword < model >.variables.search(\"electrolyte\")."
   ]
  },
  {
   "cell_type": "markdown",
   "id": "17dfaaed",
   "metadata": {},
   "source": [
    "## Potential and concentration along cell thickness"
   ]
  },
  {
   "cell_type": "code",
   "execution_count": 25,
   "id": "27ebc4f8",
   "metadata": {},
   "outputs": [
    {
     "data": {
      "application/vnd.jupyter.widget-view+json": {
       "model_id": "8b767c75668a4e82b77b62bfccac8804",
       "version_major": 2,
       "version_minor": 0
      },
      "text/plain": [
       "interactive(children=(FloatSlider(value=0.0, description='t', step=1.0), Output()), _dom_classes=('widget-inte…"
      ]
     },
     "metadata": {},
     "output_type": "display_data"
    },
    {
     "data": {
      "text/plain": [
       "<pybamm.plotting.quick_plot.QuickPlot at 0x2285f77ea90>"
      ]
     },
     "execution_count": 25,
     "metadata": {},
     "output_type": "execute_result"
    }
   ],
   "source": [
    "output_variables = [\"Negative electrode potential [V]\", \"Electrolyte potential [V]\",\"Positive electrode potential [V]\",\"R-averaged negative particle concentration [mol.m-3]\", \"Electrolyte concentration [mol.m-3]\",\"R-averaged positive particle concentration [mol.m-3]\"]\n",
    "sim.plot(output_variables=output_variables)"
   ]
  },
  {
   "cell_type": "markdown",
   "id": "22064ae9",
   "metadata": {},
   "source": [
    "## Concentration and potential averaged quantitied"
   ]
  },
  {
   "cell_type": "code",
   "execution_count": 26,
   "id": "9039cef4",
   "metadata": {},
   "outputs": [
    {
     "data": {
      "application/vnd.jupyter.widget-view+json": {
       "model_id": "c54dceb8ff614d8eae82fac1dbebd2e7",
       "version_major": 2,
       "version_minor": 0
      },
      "text/plain": [
       "interactive(children=(FloatSlider(value=0.0, description='t', step=1.0), Output()), _dom_classes=('widget-inte…"
      ]
     },
     "metadata": {},
     "output_type": "display_data"
    },
    {
     "data": {
      "text/plain": [
       "<pybamm.plotting.quick_plot.QuickPlot at 0x2280606c5b0>"
      ]
     },
     "execution_count": 26,
     "metadata": {},
     "output_type": "execute_result"
    }
   ],
   "source": [
    "sim.plot([[\"X-averaged negative electrode potential [V]\", \"X-averaged electrolyte potential [V]\", \"X-averaged positive electrode potential [V]\"],\"X-averaged negative electrode potential [V]\", \"X-averaged electrolyte potential [V]\", \"X-averaged positive electrode potential [V]\",[\"Average negative particle concentration\",\"X-averaged electrolyte concentration\",\"Average positive particle concentration\"],\"Average negative particle concentration [mol.m-3]\",\"X-averaged electrolyte concentration [mol.m-3]\",\"Average positive particle concentration [mol.m-3]\"])\n"
   ]
  },
  {
   "cell_type": "markdown",
   "id": "a3dd0837",
   "metadata": {},
   "source": [
    "## Cell voltage component"
   ]
  },
  {
   "cell_type": "code",
   "execution_count": 27,
   "id": "063377ad",
   "metadata": {},
   "outputs": [
    {
     "data": {
      "image/png": "[encoded data removed]",
      "text/plain": [
       "<Figure size 432x288 with 1 Axes>"
      ]
     },
     "metadata": {
      "needs_background": "light"
     },
     "output_type": "display_data"
    },
    {
     "data": {
      "text/plain": [
       "<AxesSubplot:xlabel='Time [h]'>"
      ]
     },
     "execution_count": 27,
     "metadata": {},
     "output_type": "execute_result"
    }
   ],
   "source": [
    "pybamm.plot_voltage_components(sim.solution)"
   ]
  },
  {
   "cell_type": "code",
   "execution_count": 28,
   "id": "4977575e",
   "metadata": {},
   "outputs": [
    {
     "data": {
      "application/vnd.jupyter.widget-view+json": {
       "model_id": "afe0b3984306424cae02f4f89a496529",
       "version_major": 2,
       "version_minor": 0
      },
      "text/plain": [
       "interactive(children=(FloatSlider(value=0.0, description='t', step=1.0), Output()), _dom_classes=('widget-inte…"
      ]
     },
     "metadata": {},
     "output_type": "display_data"
    },
    {
     "data": {
      "text/plain": [
       "<pybamm.plotting.quick_plot.QuickPlot at 0x2285f770e80>"
      ]
     },
     "execution_count": 28,
     "metadata": {},
     "output_type": "execute_result"
    }
   ],
   "source": [
    "pybamm.dynamic_plot(sim.solution, [\"Terminal voltage [V]\"], time_unit=\"seconds\")    "
   ]
  },
  {
   "cell_type": "markdown",
   "id": "27cb8ea1",
   "metadata": {},
   "source": [
    "## Temperature"
   ]
  },
  {
   "cell_type": "code",
   "execution_count": 29,
   "id": "2a451d63",
   "metadata": {},
   "outputs": [
    {
     "data": {
      "application/vnd.jupyter.widget-view+json": {
       "model_id": "b4c9e727fab24d7f9f3fd4db5b9a49c6",
       "version_major": 2,
       "version_minor": 0
      },
      "text/plain": [
       "interactive(children=(FloatSlider(value=0.0, description='t', step=1.0), Output()), _dom_classes=('widget-inte…"
      ]
     },
     "metadata": {},
     "output_type": "display_data"
    },
    {
     "data": {
      "text/plain": [
       "<pybamm.plotting.quick_plot.QuickPlot at 0x2285f770850>"
      ]
     },
     "execution_count": 29,
     "metadata": {},
     "output_type": "execute_result"
    }
   ],
   "source": [
    "sim.plot([[\"X-averaged negative electrode temperature [K]\",\"X-averaged separator temperature [K]\",\"X-averaged positive electrode temperature [K]\"],\"Cell temperature [K]\",])"
   ]
  },
  {
   "cell_type": "code",
   "execution_count": 30,
   "id": "af760400",
   "metadata": {},
   "outputs": [
    {
     "data": {
      "text/plain": [
       "['Time',\n",
       " 'Time [s]',\n",
       " 'Time [min]',\n",
       " 'Time [h]',\n",
       " 'x',\n",
       " 'x [m]',\n",
       " 'x_n',\n",
       " 'x_n [m]',\n",
       " 'x_s',\n",
       " 'x_s [m]',\n",
       " 'x_p',\n",
       " 'x_p [m]',\n",
       " 'Sum of electrolyte reaction source terms',\n",
       " 'Sum of positive electrode electrolyte reaction source terms',\n",
       " 'Sum of x-averaged positive electrode electrolyte reaction source terms',\n",
       " 'Sum of interfacial current densities',\n",
       " 'Sum of positive electrode interfacial current densities',\n",
       " 'Sum of x-averaged positive electrode interfacial current densities',\n",
       " 'Sum of negative electrode electrolyte reaction source terms',\n",
       " 'Sum of x-averaged negative electrode electrolyte reaction source terms',\n",
       " 'Sum of negative electrode interfacial current densities',\n",
       " 'Sum of x-averaged negative electrode interfacial current densities',\n",
       " 'r_p',\n",
       " 'r_p [m]',\n",
       " 'r_n',\n",
       " 'r_n [m]',\n",
       " 'Current density variable',\n",
       " 'Total current density',\n",
       " 'Total current density [A.m-2]',\n",
       " 'Current [A]',\n",
       " 'C-rate',\n",
       " 'Discharge capacity [A.h]',\n",
       " 'Porosity',\n",
       " 'Separator porosity',\n",
       " 'Positive electrode porosity',\n",
       " 'X-averaged separator porosity',\n",
       " 'X-averaged positive electrode porosity',\n",
       " 'Negative electrode porosity',\n",
       " 'X-averaged negative electrode porosity',\n",
       " 'Leading-order porosity',\n",
       " 'Leading-order separator porosity',\n",
       " 'Leading-order positive electrode porosity',\n",
       " 'Leading-order x-averaged separator porosity',\n",
       " 'Leading-order x-averaged positive electrode porosity',\n",
       " 'Leading-order negative electrode porosity',\n",
       " 'Leading-order x-averaged negative electrode porosity',\n",
       " 'Porosity change',\n",
       " 'Separator porosity change',\n",
       " 'Positive electrode porosity change',\n",
       " 'X-averaged separator porosity change',\n",
       " 'X-averaged positive electrode porosity change',\n",
       " 'Negative electrode porosity change',\n",
       " 'X-averaged negative electrode porosity change',\n",
       " 'Leading-order x-averaged separator porosity change',\n",
       " 'Leading-order x-averaged positive electrode porosity change',\n",
       " 'Leading-order x-averaged negative electrode porosity change',\n",
       " 'Negative electrode interface utilisation variable',\n",
       " 'X-averaged negative electrode interface utilisation variable',\n",
       " 'Negative electrode interface utilisation',\n",
       " 'X-averaged negative electrode interface utilisation',\n",
       " 'Positive electrode interface utilisation variable',\n",
       " 'X-averaged positive electrode interface utilisation variable',\n",
       " 'Positive electrode interface utilisation',\n",
       " 'X-averaged positive electrode interface utilisation',\n",
       " 'Negative electrode active material volume fraction',\n",
       " 'X-averaged negative electrode active material volume fraction',\n",
       " 'Negative electrode capacity [A.h]',\n",
       " 'Negative particle radius',\n",
       " 'Negative particle radius [m]',\n",
       " 'Negative electrode surface area to volume ratio',\n",
       " 'Negative electrode surface area to volume ratio [m-1]',\n",
       " 'X-averaged negative electrode surface area to volume ratio',\n",
       " 'X-averaged negative electrode surface area to volume ratio [m-1]',\n",
       " 'Negative electrode active material volume fraction change',\n",
       " 'X-averaged negative electrode active material volume fraction change',\n",
       " 'Positive electrode active material volume fraction',\n",
       " 'X-averaged positive electrode active material volume fraction',\n",
       " 'Positive electrode capacity [A.h]',\n",
       " 'Positive particle radius',\n",
       " 'Positive particle radius [m]',\n",
       " 'Positive electrode surface area to volume ratio',\n",
       " 'Positive electrode surface area to volume ratio [m-1]',\n",
       " 'X-averaged positive electrode surface area to volume ratio',\n",
       " 'X-averaged positive electrode surface area to volume ratio [m-1]',\n",
       " 'Positive electrode active material volume fraction change',\n",
       " 'X-averaged positive electrode active material volume fraction change',\n",
       " 'Separator pressure',\n",
       " 'X-averaged separator pressure',\n",
       " 'Separator transverse volume-averaged velocity',\n",
       " 'Positive electrode transverse volume-averaged velocity',\n",
       " 'Separator transverse volume-averaged velocity [m.s-2]',\n",
       " 'Positive electrode transverse volume-averaged velocity [m.s-2]',\n",
       " 'X-averaged separator transverse volume-averaged velocity',\n",
       " 'X-averaged positive electrode transverse volume-averaged velocity',\n",
       " 'X-averaged separator transverse volume-averaged velocity [m.s-2]',\n",
       " 'X-averaged positive electrode transverse volume-averaged velocity [m.s-2]',\n",
       " 'Transverse volume-averaged velocity',\n",
       " 'Transverse volume-averaged velocity [m.s-2]',\n",
       " 'Negative electrode transverse volume-averaged velocity',\n",
       " 'Negative electrode transverse volume-averaged velocity [m.s-2]',\n",
       " 'X-averaged negative electrode transverse volume-averaged velocity',\n",
       " 'X-averaged negative electrode transverse volume-averaged velocity [m.s-2]',\n",
       " 'Separator transverse volume-averaged acceleration',\n",
       " 'Positive electrode transverse volume-averaged acceleration',\n",
       " 'Separator transverse volume-averaged acceleration [m.s-2]',\n",
       " 'Positive electrode transverse volume-averaged acceleration [m.s-2]',\n",
       " 'X-averaged separator transverse volume-averaged acceleration',\n",
       " 'X-averaged positive electrode transverse volume-averaged acceleration',\n",
       " 'X-averaged separator transverse volume-averaged acceleration [m.s-2]',\n",
       " 'X-averaged positive electrode transverse volume-averaged acceleration [m.s-2]',\n",
       " 'Transverse volume-averaged acceleration',\n",
       " 'Transverse volume-averaged acceleration [m.s-2]',\n",
       " 'Negative electrode transverse volume-averaged acceleration',\n",
       " 'Negative electrode transverse volume-averaged acceleration [m.s-2]',\n",
       " 'X-averaged negative electrode transverse volume-averaged acceleration',\n",
       " 'X-averaged negative electrode transverse volume-averaged acceleration [m.s-2]',\n",
       " 'Positive electrode volume-averaged velocity',\n",
       " 'Positive electrode volume-averaged velocity [m.s-1]',\n",
       " 'Negative electrode volume-averaged velocity',\n",
       " 'Negative electrode volume-averaged velocity [m.s-1]',\n",
       " 'Positive electrode volume-averaged acceleration',\n",
       " 'Positive electrode volume-averaged acceleration [m.s-1]',\n",
       " 'X-averaged positive electrode volume-averaged acceleration',\n",
       " 'X-averaged positive electrode volume-averaged acceleration [m.s-1]',\n",
       " 'Negative electrode volume-averaged acceleration',\n",
       " 'Negative electrode volume-averaged acceleration [m.s-1]',\n",
       " 'X-averaged negative electrode volume-averaged acceleration',\n",
       " 'X-averaged negative electrode volume-averaged acceleration [m.s-1]',\n",
       " 'Positive electrode pressure',\n",
       " 'X-averaged positive electrode pressure',\n",
       " 'Negative electrode pressure',\n",
       " 'X-averaged negative electrode pressure',\n",
       " 'Negative particle concentration',\n",
       " 'Negative particle concentration [mol.m-3]',\n",
       " 'X-averaged negative particle concentration',\n",
       " 'X-averaged negative particle concentration [mol.m-3]',\n",
       " 'R-averaged negative particle concentration',\n",
       " 'R-averaged negative particle concentration [mol.m-3]',\n",
       " 'Average negative particle concentration',\n",
       " 'Average negative particle concentration [mol.m-3]',\n",
       " 'Negative particle surface concentration',\n",
       " 'Negative particle surface concentration [mol.m-3]',\n",
       " 'X-averaged negative particle surface concentration',\n",
       " 'X-averaged negative particle surface concentration [mol.m-3]',\n",
       " 'Negative electrode extent of lithiation',\n",
       " 'X-averaged negative electrode extent of lithiation',\n",
       " 'Minimum negative particle concentration',\n",
       " 'Maximum negative particle concentration',\n",
       " 'Minimum negative particle concentration [mol.m-3]',\n",
       " 'Maximum negative particle concentration [mol.m-3]',\n",
       " 'Minimum negative particle surface concentration',\n",
       " 'Maximum negative particle surface concentration',\n",
       " 'Minimum negative particle surface concentration [mol.m-3]',\n",
       " 'Maximum negative particle surface concentration [mol.m-3]',\n",
       " 'Positive particle concentration',\n",
       " 'Positive particle concentration [mol.m-3]',\n",
       " 'X-averaged positive particle concentration',\n",
       " 'X-averaged positive particle concentration [mol.m-3]',\n",
       " 'R-averaged positive particle concentration',\n",
       " 'R-averaged positive particle concentration [mol.m-3]',\n",
       " 'Average positive particle concentration',\n",
       " 'Average positive particle concentration [mol.m-3]',\n",
       " 'Positive particle surface concentration',\n",
       " 'Positive particle surface concentration [mol.m-3]',\n",
       " 'X-averaged positive particle surface concentration',\n",
       " 'X-averaged positive particle surface concentration [mol.m-3]',\n",
       " 'Positive electrode extent of lithiation',\n",
       " 'X-averaged positive electrode extent of lithiation',\n",
       " 'Minimum positive particle concentration',\n",
       " 'Maximum positive particle concentration',\n",
       " 'Minimum positive particle concentration [mol.m-3]',\n",
       " 'Maximum positive particle concentration [mol.m-3]',\n",
       " 'Minimum positive particle surface concentration',\n",
       " 'Maximum positive particle surface concentration',\n",
       " 'Minimum positive particle surface concentration [mol.m-3]',\n",
       " 'Maximum positive particle surface concentration [mol.m-3]',\n",
       " 'Negative electrode potential',\n",
       " 'Negative electrode potential [V]',\n",
       " 'X-averaged negative electrode potential',\n",
       " 'X-averaged negative electrode potential [V]',\n",
       " 'Negative electrode ohmic losses',\n",
       " 'Negative electrode ohmic losses [V]',\n",
       " 'X-averaged negative electrode ohmic losses',\n",
       " 'X-averaged negative electrode ohmic losses [V]',\n",
       " 'Gradient of negative electrode potential',\n",
       " 'Positive electrode potential',\n",
       " 'Positive electrode potential [V]',\n",
       " 'X-averaged positive electrode potential',\n",
       " 'X-averaged positive electrode potential [V]',\n",
       " 'Positive electrode ohmic losses',\n",
       " 'Positive electrode ohmic losses [V]',\n",
       " 'X-averaged positive electrode ohmic losses',\n",
       " 'X-averaged positive electrode ohmic losses [V]',\n",
       " 'Gradient of positive electrode potential',\n",
       " 'Porosity times concentration',\n",
       " 'Separator porosity times concentration',\n",
       " 'Positive electrode porosity times concentration',\n",
       " 'Negative electrode porosity times concentration',\n",
       " 'Negative electrolyte potential',\n",
       " 'Negative electrolyte potential [V]',\n",
       " 'Separator electrolyte potential',\n",
       " 'Separator electrolyte potential [V]',\n",
       " 'Positive electrolyte potential',\n",
       " 'Positive electrolyte potential [V]',\n",
       " 'Electrolyte potential',\n",
       " 'Electrolyte potential [V]',\n",
       " 'X-averaged electrolyte potential',\n",
       " 'X-averaged electrolyte potential [V]',\n",
       " 'X-averaged negative electrolyte potential',\n",
       " 'X-averaged negative electrolyte potential [V]',\n",
       " 'X-averaged separator electrolyte potential',\n",
       " 'X-averaged separator electrolyte potential [V]',\n",
       " 'X-averaged positive electrolyte potential',\n",
       " 'X-averaged positive electrolyte potential [V]',\n",
       " 'X-averaged electrolyte overpotential',\n",
       " 'X-averaged electrolyte overpotential [V]',\n",
       " 'Gradient of separator electrolyte potential',\n",
       " 'Gradient of positive electrolyte potential',\n",
       " 'Gradient of electrolyte potential',\n",
       " 'Gradient of negative electrolyte potential',\n",
       " 'Negative current collector temperature',\n",
       " 'Negative current collector temperature [K]',\n",
       " 'X-averaged negative electrode temperature',\n",
       " 'X-averaged negative electrode temperature [K]',\n",
       " 'Negative electrode temperature',\n",
       " 'Negative electrode temperature [K]',\n",
       " 'X-averaged separator temperature',\n",
       " 'X-averaged separator temperature [K]',\n",
       " 'Separator temperature',\n",
       " 'Separator temperature [K]',\n",
       " 'X-averaged positive electrode temperature',\n",
       " 'X-averaged positive electrode temperature [K]',\n",
       " 'Positive electrode temperature',\n",
       " 'Positive electrode temperature [K]',\n",
       " 'Positive current collector temperature',\n",
       " 'Positive current collector temperature [K]',\n",
       " 'Cell temperature',\n",
       " 'Cell temperature [K]',\n",
       " 'X-averaged cell temperature',\n",
       " 'X-averaged cell temperature [K]',\n",
       " 'Volume-averaged cell temperature',\n",
       " 'Volume-averaged cell temperature [K]',\n",
       " 'Ambient temperature [K]',\n",
       " 'Ambient temperature',\n",
       " 'Negative current collector potential',\n",
       " 'Negative current collector potential [V]',\n",
       " 'Inner SEI thickness',\n",
       " 'Inner SEI thickness [m]',\n",
       " 'Outer SEI thickness',\n",
       " 'Outer SEI thickness [m]',\n",
       " 'X-averaged inner SEI thickness',\n",
       " 'X-averaged inner SEI thickness [m]',\n",
       " 'X-averaged outer SEI thickness',\n",
       " 'X-averaged outer SEI thickness [m]',\n",
       " 'SEI thickness',\n",
       " 'SEI thickness [m]',\n",
       " 'Total SEI thickness',\n",
       " 'Total SEI thickness [m]',\n",
       " 'X-averaged SEI thickness',\n",
       " 'X-averaged SEI thickness [m]',\n",
       " 'X-averaged total SEI thickness',\n",
       " 'X-averaged total SEI thickness [m]',\n",
       " 'X-averaged negative electrode resistance [Ohm.m2]',\n",
       " 'Inner SEI concentration [mol.m-3]',\n",
       " 'X-averaged inner SEI concentration [mol.m-3]',\n",
       " 'Outer SEI concentration [mol.m-3]',\n",
       " 'X-averaged outer SEI concentration [mol.m-3]',\n",
       " 'SEI concentration [mol.m-3]',\n",
       " 'X-averaged SEI concentration [mol.m-3]',\n",
       " 'Loss of lithium to SEI [mol]',\n",
       " 'Loss of capacity to SEI [A.h]',\n",
       " 'Inner SEI interfacial current density',\n",
       " 'Inner SEI interfacial current density [A.m-2]',\n",
       " 'X-averaged inner SEI interfacial current density',\n",
       " 'X-averaged inner SEI interfacial current density [A.m-2]',\n",
       " 'Outer SEI interfacial current density',\n",
       " 'Outer SEI interfacial current density [A.m-2]',\n",
       " 'X-averaged outer SEI interfacial current density',\n",
       " 'X-averaged outer SEI interfacial current density [A.m-2]',\n",
       " 'SEI interfacial current density',\n",
       " 'SEI interfacial current density [A.m-2]',\n",
       " 'X-averaged SEI interfacial current density',\n",
       " 'X-averaged SEI interfacial current density [A.m-2]',\n",
       " 'Lithium plating concentration',\n",
       " 'Lithium plating concentration [mol.m-3]',\n",
       " 'X-averaged lithium plating concentration',\n",
       " 'X-averaged lithium plating concentration [mol.m-3]',\n",
       " 'Dead lithium concentration',\n",
       " 'Dead lithium concentration [mol.m-3]',\n",
       " 'X-averaged dead lithium concentration',\n",
       " 'X-averaged dead lithium concentration [mol.m-3]',\n",
       " 'Lithium plating thickness',\n",
       " 'Lithium plating thickness [m]',\n",
       " 'X-averaged lithium plating thickness [m]',\n",
       " 'Dead lithium thickness',\n",
       " 'Dead lithium thickness [m]',\n",
       " 'X-averaged dead lithium thickness [m]',\n",
       " 'Loss of lithium to lithium plating [mol]',\n",
       " 'Loss of capacity to lithium plating [A.h]',\n",
       " 'Negative electrode lithium plating reaction overpotential',\n",
       " 'X-averaged negative electrode lithium plating reaction overpotential',\n",
       " 'Negative electrode lithium plating reaction overpotential [V]',\n",
       " 'X-averaged negative electrode lithium plating reaction overpotential [V]',\n",
       " 'Lithium plating interfacial current density',\n",
       " 'Lithium plating interfacial current density [A.m-2]',\n",
       " 'X-averaged lithium plating interfacial current density',\n",
       " 'X-averaged lithium plating interfacial current density [A.m-2]',\n",
       " 'Electrolyte transport efficiency',\n",
       " 'Positive electrolyte transport efficiency',\n",
       " 'X-averaged positive electrolyte transport efficiency',\n",
       " 'Negative electrolyte transport efficiency',\n",
       " 'X-averaged negative electrolyte transport efficiency',\n",
       " 'Separator transport efficiency',\n",
       " 'X-averaged separator transport efficiency',\n",
       " 'Electrode transport efficiency',\n",
       " 'Positive electrode transport efficiency',\n",
       " 'X-averaged positive electrode transport efficiency',\n",
       " 'Negative electrode transport efficiency',\n",
       " 'X-averaged negative electrode transport efficiency',\n",
       " 'Separator volume-averaged velocity',\n",
       " 'Separator volume-averaged velocity [m.s-1]',\n",
       " 'Separator volume-averaged acceleration',\n",
       " 'Separator volume-averaged acceleration [m.s-1]',\n",
       " 'X-averaged separator volume-averaged acceleration',\n",
       " 'X-averaged separator volume-averaged acceleration [m.s-1]',\n",
       " 'Volume-averaged velocity',\n",
       " 'Volume-averaged velocity [m.s-1]',\n",
       " 'Volume-averaged acceleration',\n",
       " 'X-averaged volume-averaged acceleration',\n",
       " 'Volume-averaged acceleration [m.s-1]',\n",
       " 'X-averaged volume-averaged acceleration [m.s-1]',\n",
       " 'Pressure',\n",
       " 'Negative electrode open circuit potential',\n",
       " 'Negative electrode open circuit potential [V]',\n",
       " 'X-averaged negative electrode open circuit potential',\n",
       " 'X-averaged negative electrode open circuit potential [V]',\n",
       " 'Negative electrode entropic change',\n",
       " 'Negative electrode entropic change [V.K-1]',\n",
       " 'X-averaged negative electrode entropic change',\n",
       " 'X-averaged negative electrode entropic change [V.K-1]',\n",
       " 'Positive electrode open circuit potential',\n",
       " 'Positive electrode open circuit potential [V]',\n",
       " 'X-averaged positive electrode open circuit potential',\n",
       " 'X-averaged positive electrode open circuit potential [V]',\n",
       " 'Positive electrode entropic change',\n",
       " 'Positive electrode entropic change [V.K-1]',\n",
       " 'X-averaged positive electrode entropic change',\n",
       " 'X-averaged positive electrode entropic change [V.K-1]',\n",
       " 'Negative electrode oxygen open circuit potential',\n",
       " 'Negative electrode oxygen open circuit potential [V]',\n",
       " 'X-averaged negative electrode oxygen open circuit potential',\n",
       " 'X-averaged negative electrode oxygen open circuit potential [V]',\n",
       " 'Positive electrode oxygen open circuit potential',\n",
       " 'Positive electrode oxygen open circuit potential [V]',\n",
       " 'X-averaged positive electrode oxygen open circuit potential',\n",
       " 'X-averaged positive electrode oxygen open circuit potential [V]',\n",
       " 'Negative particle flux',\n",
       " 'X-averaged negative particle flux',\n",
       " 'Negative effective diffusivity',\n",
       " 'Negative effective diffusivity [m2.s-1]',\n",
       " 'X-averaged negative effective diffusivity',\n",
       " 'X-averaged negative effective diffusivity [m2.s-1]',\n",
       " 'Negative electrode SOC',\n",
       " 'Negative electrode volume-averaged concentration',\n",
       " 'Negative electrode volume-averaged concentration [mol.m-3]',\n",
       " 'Total lithium in negative electrode [mol]',\n",
       " 'Positive particle flux',\n",
       " 'X-averaged positive particle flux',\n",
       " 'Positive effective diffusivity',\n",
       " 'Positive effective diffusivity [m2.s-1]',\n",
       " 'X-averaged positive effective diffusivity',\n",
       " 'X-averaged positive effective diffusivity [m2.s-1]',\n",
       " 'Positive electrode SOC',\n",
       " 'Positive electrode volume-averaged concentration',\n",
       " 'Positive electrode volume-averaged concentration [mol.m-3]',\n",
       " 'Total lithium in positive electrode [mol]',\n",
       " 'Negative electrode effective conductivity',\n",
       " 'Negative electrode current density',\n",
       " 'Negative electrode current density [A.m-2]',\n",
       " 'Positive electrode effective conductivity',\n",
       " 'Positive electrode current density',\n",
       " 'Positive electrode current density [A.m-2]',\n",
       " 'Electrode current density',\n",
       " 'Positive current collector potential',\n",
       " 'Positive current collector potential [V]',\n",
       " 'Local voltage',\n",
       " 'Local voltage [V]',\n",
       " 'Terminal voltage',\n",
       " 'Terminal voltage [V]',\n",
       " 'Electrolyte concentration',\n",
       " 'Electrolyte concentration [mol.m-3]',\n",
       " 'Electrolyte concentration [Molar]',\n",
       " 'X-averaged electrolyte concentration',\n",
       " 'X-averaged electrolyte concentration [mol.m-3]',\n",
       " 'X-averaged electrolyte concentration [Molar]',\n",
       " 'Negative electrolyte concentration',\n",
       " 'Negative electrolyte concentration [mol.m-3]',\n",
       " 'Negative electrolyte concentration [Molar]',\n",
       " 'Separator electrolyte concentration',\n",
       " 'Separator electrolyte concentration [mol.m-3]',\n",
       " 'Separator electrolyte concentration [Molar]',\n",
       " 'Positive electrolyte concentration',\n",
       " 'Positive electrolyte concentration [mol.m-3]',\n",
       " 'Positive electrolyte concentration [Molar]',\n",
       " 'X-averaged negative electrolyte concentration',\n",
       " 'X-averaged negative electrolyte concentration [mol.m-3]',\n",
       " 'X-averaged separator electrolyte concentration',\n",
       " 'X-averaged separator electrolyte concentration [mol.m-3]',\n",
       " 'X-averaged positive electrolyte concentration',\n",
       " 'X-averaged positive electrolyte concentration [mol.m-3]',\n",
       " 'Electrolyte current density',\n",
       " 'Electrolyte current density [A.m-2]',\n",
       " 'X-averaged concentration overpotential',\n",
       " 'X-averaged electrolyte ohmic losses',\n",
       " 'X-averaged concentration overpotential [V]',\n",
       " 'X-averaged electrolyte ohmic losses [V]',\n",
       " 'Negative electrode surface potential difference',\n",
       " 'Negative electrode surface potential difference [V]',\n",
       " 'X-averaged negative electrode surface potential difference',\n",
       " 'X-averaged negative electrode surface potential difference [V]',\n",
       " 'Positive electrode surface potential difference',\n",
       " 'Positive electrode surface potential difference [V]',\n",
       " 'X-averaged positive electrode surface potential difference',\n",
       " 'X-averaged positive electrode surface potential difference [V]',\n",
       " 'Ohmic heating',\n",
       " 'Ohmic heating [W.m-3]',\n",
       " 'X-averaged Ohmic heating',\n",
       " 'X-averaged Ohmic heating [W.m-3]',\n",
       " 'Volume-averaged Ohmic heating',\n",
       " 'Volume-averaged Ohmic heating [W.m-3]',\n",
       " 'Irreversible electrochemical heating',\n",
       " 'Irreversible electrochemical heating [W.m-3]',\n",
       " 'X-averaged irreversible electrochemical heating',\n",
       " 'X-averaged irreversible electrochemical heating [W.m-3]',\n",
       " 'Volume-averaged irreversible electrochemical heating',\n",
       " 'Volume-averaged irreversible electrochemical heating[W.m-3]',\n",
       " 'Reversible heating',\n",
       " 'Reversible heating [W.m-3]',\n",
       " 'X-averaged reversible heating',\n",
       " 'X-averaged reversible heating [W.m-3]',\n",
       " 'Volume-averaged reversible heating',\n",
       " 'Volume-averaged reversible heating [W.m-3]',\n",
       " 'Total heating',\n",
       " 'Total heating [W.m-3]',\n",
       " 'X-averaged total heating',\n",
       " 'X-averaged total heating [W.m-3]',\n",
       " 'Volume-averaged total heating',\n",
       " 'Volume-averaged total heating [W.m-3]',\n",
       " 'Current collector current density',\n",
       " 'Current collector current density [A.m-2]',\n",
       " 'Leading-order current collector current density',\n",
       " 'X-averaged negative electrode SEI interfacial current density',\n",
       " 'Negative electrode SEI interfacial current density',\n",
       " 'X-averaged positive electrode SEI interfacial current density',\n",
       " 'Positive electrode SEI interfacial current density',\n",
       " 'X-averaged negative electrode lithium plating interfacial current density',\n",
       " 'X-averaged positive electrode lithium plating interfacial current density',\n",
       " 'Negative electrode lithium plating interfacial current density',\n",
       " 'Positive electrode lithium plating interfacial current density',\n",
       " 'Negative electrode interfacial current density',\n",
       " 'X-averaged negative electrode interfacial current density',\n",
       " 'Negative electrode interfacial current density [A.m-2]',\n",
       " 'X-averaged negative electrode interfacial current density [A.m-2]',\n",
       " 'Negative electrode interfacial current density per volume [A.m-3]',\n",
       " 'X-averaged negative electrode interfacial current density per volume [A.m-3]',\n",
       " 'X-averaged negative electrode total interfacial current density',\n",
       " 'X-averaged negative electrode total interfacial current density [A.m-2]',\n",
       " 'X-averaged negative electrode total interfacial current density per volume [A.m-3]',\n",
       " 'Negative electrode exchange current density',\n",
       " 'X-averaged negative electrode exchange current density',\n",
       " 'Negative electrode exchange current density [A.m-2]',\n",
       " 'X-averaged negative electrode exchange current density [A.m-2]',\n",
       " 'Negative electrode exchange current density per volume [A.m-3]',\n",
       " 'X-averaged negative electrode exchange current density per volume [A.m-3]',\n",
       " 'Negative electrode reaction overpotential',\n",
       " 'X-averaged negative electrode reaction overpotential',\n",
       " 'Negative electrode reaction overpotential [V]',\n",
       " 'X-averaged negative electrode reaction overpotential [V]',\n",
       " 'SEI film overpotential',\n",
       " 'X-averaged SEI film overpotential',\n",
       " 'SEI film overpotential [V]',\n",
       " 'X-averaged SEI film overpotential [V]',\n",
       " 'Positive electrode interfacial current density',\n",
       " 'X-averaged positive electrode interfacial current density',\n",
       " 'Positive electrode interfacial current density [A.m-2]',\n",
       " 'X-averaged positive electrode interfacial current density [A.m-2]',\n",
       " 'Positive electrode interfacial current density per volume [A.m-3]',\n",
       " 'X-averaged positive electrode interfacial current density per volume [A.m-3]',\n",
       " 'X-averaged positive electrode total interfacial current density',\n",
       " 'X-averaged positive electrode total interfacial current density [A.m-2]',\n",
       " 'X-averaged positive electrode total interfacial current density per volume [A.m-3]',\n",
       " 'Positive electrode exchange current density',\n",
       " 'X-averaged positive electrode exchange current density',\n",
       " 'Positive electrode exchange current density [A.m-2]',\n",
       " 'X-averaged positive electrode exchange current density [A.m-2]',\n",
       " 'Positive electrode exchange current density per volume [A.m-3]',\n",
       " 'X-averaged positive electrode exchange current density per volume [A.m-3]',\n",
       " 'Positive electrode reaction overpotential',\n",
       " 'X-averaged positive electrode reaction overpotential',\n",
       " 'Positive electrode reaction overpotential [V]',\n",
       " 'X-averaged positive electrode reaction overpotential [V]',\n",
       " 'Interfacial current density',\n",
       " 'Interfacial current density [A.m-2]',\n",
       " 'Interfacial current density per volume [A.m-3]',\n",
       " 'Exchange current density',\n",
       " 'Exchange current density [A.m-2]',\n",
       " 'Exchange current density per volume [A.m-3]',\n",
       " 'Negative electrode oxygen interfacial current density',\n",
       " 'X-averaged negative electrode oxygen interfacial current density',\n",
       " 'Negative electrode oxygen interfacial current density [A.m-2]',\n",
       " 'X-averaged negative electrode oxygen interfacial current density [A.m-2]',\n",
       " 'Negative electrode oxygen interfacial current density per volume [A.m-3]',\n",
       " 'X-averaged negative electrode oxygen interfacial current density per volume [A.m-3]',\n",
       " 'Negative electrode oxygen exchange current density',\n",
       " 'X-averaged negative electrode oxygen exchange current density',\n",
       " 'Negative electrode oxygen exchange current density [A.m-2]',\n",
       " 'X-averaged negative electrode oxygen exchange current density [A.m-2]',\n",
       " 'Negative electrode oxygen exchange current density per volume [A.m-3]',\n",
       " 'X-averaged negative electrode oxygen exchange current density per volume [A.m-3]',\n",
       " 'Negative electrode oxygen reaction overpotential',\n",
       " 'X-averaged negative electrode oxygen reaction overpotential',\n",
       " 'Negative electrode oxygen reaction overpotential [V]',\n",
       " 'X-averaged negative electrode oxygen reaction overpotential [V]',\n",
       " 'Positive electrode oxygen interfacial current density',\n",
       " 'X-averaged positive electrode oxygen interfacial current density',\n",
       " 'Positive electrode oxygen interfacial current density [A.m-2]',\n",
       " 'X-averaged positive electrode oxygen interfacial current density [A.m-2]',\n",
       " 'Positive electrode oxygen interfacial current density per volume [A.m-3]',\n",
       " 'X-averaged positive electrode oxygen interfacial current density per volume [A.m-3]',\n",
       " 'Positive electrode oxygen exchange current density',\n",
       " 'X-averaged positive electrode oxygen exchange current density',\n",
       " 'Positive electrode oxygen exchange current density [A.m-2]',\n",
       " 'X-averaged positive electrode oxygen exchange current density [A.m-2]',\n",
       " 'Positive electrode oxygen exchange current density per volume [A.m-3]',\n",
       " 'X-averaged positive electrode oxygen exchange current density per volume [A.m-3]',\n",
       " 'Positive electrode oxygen reaction overpotential',\n",
       " 'X-averaged positive electrode oxygen reaction overpotential',\n",
       " 'Positive electrode oxygen reaction overpotential [V]',\n",
       " 'X-averaged positive electrode oxygen reaction overpotential [V]',\n",
       " 'Oxygen interfacial current density',\n",
       " 'Oxygen interfacial current density [A.m-2]',\n",
       " 'Oxygen interfacial current density per volume [A.m-3]',\n",
       " 'Oxygen exchange current density',\n",
       " 'Oxygen exchange current density [A.m-2]',\n",
       " 'Oxygen exchange current density per volume [A.m-3]',\n",
       " 'Electrolyte flux',\n",
       " 'Electrolyte flux [mol.m-2.s-1]',\n",
       " 'Total lithium in electrolyte',\n",
       " 'Total lithium in electrolyte [mol]',\n",
       " 'X-averaged open circuit voltage',\n",
       " 'Measured open circuit voltage',\n",
       " 'X-averaged open circuit voltage [V]',\n",
       " 'Measured open circuit voltage [V]',\n",
       " 'X-averaged reaction overpotential',\n",
       " 'X-averaged reaction overpotential [V]',\n",
       " 'X-averaged solid phase ohmic losses',\n",
       " 'X-averaged solid phase ohmic losses [V]',\n",
       " 'X-averaged battery open circuit voltage [V]',\n",
       " 'Measured battery open circuit voltage [V]',\n",
       " 'X-averaged battery reaction overpotential [V]',\n",
       " 'X-averaged battery solid phase ohmic losses [V]',\n",
       " 'X-averaged battery electrolyte ohmic losses [V]',\n",
       " 'X-averaged battery concentration overpotential [V]',\n",
       " 'Battery voltage [V]',\n",
       " 'Change in measured open circuit voltage',\n",
       " 'Change in measured open circuit voltage [V]',\n",
       " 'Local ECM resistance',\n",
       " 'Local ECM resistance [Ohm]',\n",
       " 'Terminal power [W]',\n",
       " 'Power [W]',\n",
       " 'Resistance [Ohm]',\n",
       " 'LAM_ne [%]',\n",
       " 'LAM_pe [%]',\n",
       " 'LLI [%]',\n",
       " 'Loss of active material in negative electrode [%]',\n",
       " 'Loss of active material in positive electrode [%]',\n",
       " 'Loss of lithium inventory [%]',\n",
       " 'Loss of lithium inventory, including electrolyte [%]',\n",
       " 'Total lithium [mol]',\n",
       " 'Total lithium in particles [mol]',\n",
       " 'Total lithium lost [mol]',\n",
       " 'Total lithium lost from particles [mol]',\n",
       " 'Total lithium lost from electrolyte [mol]',\n",
       " 'Total lithium lost to side reactions [mol]',\n",
       " 'Total capacity lost to side reactions [A.h]']"
      ]
     },
     "execution_count": 30,
     "metadata": {},
     "output_type": "execute_result"
    }
   ],
   "source": [
    "model.variable_names() "
   ]
  },
  {
   "cell_type": "code",
   "execution_count": 31,
   "id": "f0149e2c",
   "metadata": {},
   "outputs": [
    {
     "name": "stdout",
     "output_type": "stream",
     "text": [
      "Change in measured open circuit voltage\n",
      "Change in measured open circuit voltage [V]\n",
      "Measured battery open circuit voltage [V]\n",
      "Measured open circuit voltage\n",
      "Measured open circuit voltage [V]\n",
      "Negative electrode open circuit potential\n",
      "Negative electrode open circuit potential [V]\n",
      "Negative electrode oxygen open circuit potential\n",
      "Negative electrode oxygen open circuit potential [V]\n",
      "Positive electrode open circuit potential\n",
      "Positive electrode open circuit potential [V]\n",
      "Positive electrode oxygen open circuit potential\n",
      "Positive electrode oxygen open circuit potential [V]\n",
      "X-averaged battery open circuit voltage [V]\n",
      "X-averaged negative electrode open circuit potential\n",
      "X-averaged negative electrode open circuit potential [V]\n",
      "X-averaged negative electrode oxygen open circuit potential\n",
      "X-averaged negative electrode oxygen open circuit potential [V]\n",
      "X-averaged open circuit voltage\n",
      "X-averaged open circuit voltage [V]\n",
      "X-averaged positive electrode open circuit potential\n",
      "X-averaged positive electrode open circuit potential [V]\n",
      "X-averaged positive electrode oxygen open circuit potential\n",
      "X-averaged positive electrode oxygen open circuit potential [V]\n"
     ]
    }
   ],
   "source": [
    "model.variables.search(\"open\")"
   ]
  },
  {
   "cell_type": "code",
   "execution_count": 32,
   "id": "69a1003d",
   "metadata": {},
   "outputs": [
    {
     "data": {
      "application/vnd.jupyter.widget-view+json": {
       "model_id": "d0a1317d3fff478bbc7c774f445e3edd",
       "version_major": 2,
       "version_minor": 0
      },
      "text/plain": [
       "interactive(children=(FloatSlider(value=0.0, description='t', step=1.0), Output()), _dom_classes=('widget-inte…"
      ]
     },
     "metadata": {},
     "output_type": "display_data"
    },
    {
     "data": {
      "text/plain": [
       "<pybamm.plotting.quick_plot.QuickPlot at 0x2280d4976d0>"
      ]
     },
     "execution_count": 32,
     "metadata": {},
     "output_type": "execute_result"
    }
   ],
   "source": [
    "sim.plot([\"X-averaged negative electrode open circuit potential [V]\",\"X-averaged positive electrode open circuit potential [V]\",])"
   ]
  },
  {
   "cell_type": "markdown",
   "id": "973c1650",
   "metadata": {},
   "source": [
    "# Export to csv"
   ]
  },
  {
   "cell_type": "markdown",
   "id": "8d148f05",
   "metadata": {},
   "source": [
    "#### Access solution variables"
   ]
  },
  {
   "cell_type": "code",
   "execution_count": 33,
   "id": "63de18f6",
   "metadata": {},
   "outputs": [],
   "source": [
    "solution = sim.solution"
   ]
  },
  {
   "cell_type": "code",
   "execution_count": 34,
   "id": "c527dc7f",
   "metadata": {},
   "outputs": [
    {
     "data": {
      "image/png": "[encoded data removed]",
      "text/plain": [
       "<Figure size 432x288 with 1 Axes>"
      ]
     },
     "metadata": {
      "needs_background": "light"
     },
     "output_type": "display_data"
    }
   ],
   "source": [
    "t = solution[\"Time [s]\"]\n",
    "V = solution[\"Terminal voltage [V]\"]\n",
    "# x = solution[\"x [m]\"]\n",
    "plt.plot(t.entries, V.entries)\n",
    "plt.show()"
   ]
  },
  {
   "cell_type": "markdown",
   "id": "35c0b6f0",
   "metadata": {},
   "source": [
    "_Averaged quantities_"
   ]
  },
  {
   "cell_type": "code",
   "execution_count": 35,
   "id": "187a4431",
   "metadata": {},
   "outputs": [],
   "source": [
    "save_avg_variables = [\"Time [s]\", \"Current [A]\", \"Terminal voltage [V]\",\"X-averaged negative electrode potential [V]\", \"X-averaged electrolyte potential [V]\", \"X-averaged positive electrode potential [V]\",\"Average negative particle concentration [mol.m-3]\",\"X-averaged electrolyte concentration [mol.m-3]\",\"Average positive particle concentration [mol.m-3]\"]\n",
    "solution.save_data(\"Averaged_quantities.csv\",save_avg_variables, to_format=\"csv\")"
   ]
  },
  {
   "cell_type": "markdown",
   "id": "65d2bb46",
   "metadata": {},
   "source": [
    "_Along thickness quantities_"
   ]
  },
  {
   "cell_type": "code",
   "execution_count": 36,
   "id": "b43b53ca",
   "metadata": {},
   "outputs": [],
   "source": [
    "# X and time axis\n",
    "x = solution[\"x [m]\"]\n",
    "x = x.entries[:,0]\n",
    "x = np.reshape(x, (-1, 1)) # 2d array of size (n,11)\n",
    "xn = solution[\"x_n [m]\"]\n",
    "xn = xn.entries[:,0]\n",
    "xn = np.reshape(xn, (-1, 1)) # 2d array of size (n,11)\n",
    "xp = solution[\"x_p [m]\"]\n",
    "xp = xp.entries[:,0]\n",
    "xp = np.reshape(xp, (-1, 1)) # 2d array of size (n,11)\n",
    "\n",
    "t = solution[\"Time [s]\"]\n",
    "t = np.concatenate(([-1], t.entries), axis=0)\n",
    "t = np.reshape(t, (1, -1)) # 2d array of size (n,11)"
   ]
  },
  {
   "cell_type": "code",
   "execution_count": 37,
   "id": "1f7ea155",
   "metadata": {},
   "outputs": [],
   "source": [
    "save_along_cell_thickness_variables = [\"Electrolyte potential [V]\",\"Electrolyte concentration [mol.m-3]\",\"Cell temperature [K]\"]\n",
    "for var in save_along_cell_thickness_variables:\n",
    "    with open((var + '.csv'),\"w+\") as my_csv:\n",
    "        csvWriter = csv.writer(my_csv,delimiter=',')\n",
    "        new = np.concatenate((x, solution[var].entries), axis=1) # Add thickness axis\n",
    "        new = np.concatenate((t, new), axis=0) # Add time axis\n",
    "        csvWriter.writerows(new)\n",
    "        \n",
    "save_along_anode_thickness_variables = [\"Negative electrode potential [V]\",\"R-averaged negative particle concentration [mol.m-3]\"]\n",
    "for var in save_along_anode_thickness_variables:\n",
    "    with open((var + '.csv'),\"w+\") as my_csv:\n",
    "        csvWriter = csv.writer(my_csv,delimiter=',')\n",
    "        new = np.concatenate((xn, solution[var].entries), axis=1) # Add thickness axis\n",
    "        new = np.concatenate((t, new), axis=0) # Add time axis\n",
    "        csvWriter.writerows(new)\n",
    "        \n",
    "save_along_cathode_thickness_variables = [\"Positive electrode potential [V]\",\"R-averaged positive particle concentration [mol.m-3]\"]\n",
    "for var in save_along_cathode_thickness_variables:\n",
    "    with open((var + '.csv'),\"w+\") as my_csv:\n",
    "        csvWriter = csv.writer(my_csv,delimiter=',')\n",
    "        new = np.concatenate((xp, solution[var].entries), axis=1) # Add thickness axis\n",
    "        new = np.concatenate((t, new), axis=0) # Add time axis\n",
    "        csvWriter.writerows(new)       \n",
    "\n",
    "        \n",
    "        \n",
    "        "
   ]
  },
  {
   "cell_type": "code",
   "execution_count": 38,
   "id": "487b0c13",
   "metadata": {},
   "outputs": [
    {
     "data": {
      "text/plain": [
       "array([[ -1.       ,   0.       ,   0.1001001, ...,  99.7997998,\n",
       "         99.8998999, 100.       ]])"
      ]
     },
     "execution_count": 38,
     "metadata": {},
     "output_type": "execute_result"
    }
   ],
   "source": [
    "t"
   ]
  },
  {
   "cell_type": "code",
   "execution_count": 39,
   "id": "fe2ef9a8",
   "metadata": {},
   "outputs": [
    {
     "data": {
      "text/plain": [
       "'C:\\\\Users\\\\fussegli'"
      ]
     },
     "execution_count": 39,
     "metadata": {},
     "output_type": "execute_result"
    }
   ],
   "source": [
    "pwd"
   ]
  },
  {
   "cell_type": "code",
   "execution_count": null,
   "id": "f385ff88",
   "metadata": {},
   "outputs": [],
   "source": []
  },
  {
   "cell_type": "code",
   "execution_count": null,
   "id": "5a85d3cf",
   "metadata": {},
   "outputs": [],
   "source": []
  }
 ],
 "metadata": {
  "kernelspec": {
   "display_name": "Python 3 (ipykernel)",
   "language": "python",
   "name": "python3"
  },
  "language_info": {
   "codemirror_mode": {
    "name": "ipython",
    "version": 3
   },
   "file_extension": ".py",
   "mimetype": "text/x-python",
   "name": "python",
   "nbconvert_exporter": "python",
   "pygments_lexer": "ipython3",
   "version": "3.9.12"
  }
 },
 "nbformat": 4,
 "nbformat_minor": 5
}
