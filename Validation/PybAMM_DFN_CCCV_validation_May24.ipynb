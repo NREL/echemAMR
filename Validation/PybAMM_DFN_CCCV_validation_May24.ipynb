{
 "cells": [
  {
   "cell_type": "markdown",
   "id": "851d6654",
   "metadata": {},
   "source": [
    "# Import libraries"
   ]
  },
  {
   "cell_type": "code",
   "execution_count": 1,
   "id": "7c159932",
   "metadata": {},
   "outputs": [
    {
     "name": "stdout",
     "output_type": "stream",
     "text": [
      "Defaulting to user installation because normal site-packages is not writeable\n",
      "Note: you may need to restart the kernel to use updated packages.\n"
     ]
    },
    {
     "name": "stderr",
     "output_type": "stream",
     "text": [
      "ERROR: Invalid requirement: '#'\n"
     ]
    },
    {
     "name": "stdout",
     "output_type": "stream",
     "text": [
      "Note: you may need to restart the kernel to use updated packages.\n"
     ]
    }
   ],
   "source": [
    "%pip install pybamm # install PyBaMM if it is not installed\n",
    "%pip install \"pybamm[plot,cite]\" -q\n",
    "import pybamm\n",
    "import numpy as np\n",
    "import matplotlib.pyplot as plt\n",
    "import csv\n",
    "import math"
   ]
  },
  {
   "cell_type": "code",
   "execution_count": 2,
   "id": "002d85ba",
   "metadata": {},
   "outputs": [
    {
     "data": {
      "text/plain": [
       "['C:\\\\Users\\\\fussegli\\\\AppData\\\\Roaming\\\\Python\\\\Python311\\\\site-packages',\n",
       " 'C:\\\\Users\\\\fussegli\\\\Documents\\\\PyBAMM',\n",
       " 'C:\\\\Users\\\\fussegli\\\\AppData\\\\Roaming\\\\Python\\\\Python311\\\\site-packages\\\\pybamm\\\\input\\\\parameters']"
      ]
     },
     "execution_count": 2,
     "metadata": {},
     "output_type": "execute_result"
    }
   ],
   "source": [
    "pybamm.PARAMETER_PATH"
   ]
  },
  {
   "cell_type": "markdown",
   "id": "1f269075",
   "metadata": {},
   "source": [
    "**PyBaMM** (Python Battery Mathematical Modelling) solves physics-based electrochemical DAE models by using state-of-the-art automatic differentiation and numerical solvers.  \n",
    "Repository: https://github.com/pybamm-team/PyBaMM"
   ]
  },
  {
   "cell_type": "code",
   "execution_count": 3,
   "id": "906442a1",
   "metadata": {},
   "outputs": [
    {
     "name": "stdout",
     "output_type": "stream",
     "text": [
      "[1] Charles R. Harris, K. Jarrod Millman, Stéfan J. van der Walt, Ralf Gommers, Pauli Virtanen, David Cournapeau, Eric Wieser, Julian Taylor, Sebastian Berg, Nathaniel J. Smith, and others. Array programming with NumPy. Nature, 585(7825):357–362, 2020. doi:10.1038/s41586-020-2649-2.\n",
      "[2] Valentin Sulzer, Scott G. Marquis, Robert Timms, Martin Robinson, and S. Jon Chapman. Python Battery Mathematical Modelling (PyBaMM). Journal of Open Research Software, 9(1):14, 2021. doi:10.5334/jors.309.\n",
      "\n"
     ]
    }
   ],
   "source": [
    "pybamm.print_citations()"
   ]
  },
  {
   "cell_type": "markdown",
   "id": "1977c62a",
   "metadata": {},
   "source": [
    "# Set model"
   ]
  },
  {
   "cell_type": "markdown",
   "id": "75f97a8c",
   "metadata": {},
   "source": [
    "## Choose model: Doyle-Fuller-Newman (DFN)"
   ]
  },
  {
   "cell_type": "markdown",
   "id": "9f438c5d",
   "metadata": {},
   "source": [
    "### Select options  \n",
    "Read documentation for more details https://pybamm.readthedocs.io/en/latest/source/models/base_models/base_battery_model.html"
   ]
  },
  {
   "cell_type": "code",
   "execution_count": 4,
   "id": "4be78a6a",
   "metadata": {},
   "outputs": [],
   "source": [
    "# Intercalation reaction\n",
    "options = {\"intercalation kinetics\": \"symmetric Butler-Volmer\"} #  “symmetric Butler-Volmer” (default), “asymmetric Butler-Volmer”, “linear”, “Marcus”, or “Marcus-Hush-Chidsey”\n",
    "# Thermal\n",
    "options[\"thermal\"] = \"isothermal\" # “isothermal” (default), “lumped”, “x-lumped”, or “x-full”.\n",
    "options[\"calculate heat source for isothermal models\"] = \"false\" # “false” (default) or “true”.\n",
    "# Mechanics\n",
    "options[\"particle mechanics\"] = \"none\" # none” (default), “swelling only”, or “swelling and cracking”\n",
    "options[\"stress-induced diffusion\"] = \"false\" # “false” (default) or “true”. False if particle mechanics is none, true otherwise.\n",
    "# Degradation\n",
    "options[\"loss of active material\"] = \"none\" #  “none” (default), “stress-driven”, “reaction-driven”, or “stress and reaction-driven”\n",
    "options[\"lithium plating\"] = \"none\" #  “none” (default), “reversible”, “partially reversible”, or “irreversible”.\n",
    "options[\"SEI\"] = \"none\" # “none”, \"constant\",reaction limited”, “solvent-diffusion limited”, “electron-migration limited”, “interstitial-diffusion limited”, or “ec reaction limited”\n",
    "options[\"SEI film resistance\"] = \"none\" # “none”, \"distributed\", \"average\"\n",
    "options[\"SEI porosity change\"] = \"false\" # “false” (default) or “true”.\n",
    "# Applied Loading\n",
    "options[\"operating mode\"] = \"current\" #  “current” (default), “voltage”/”power”/”resistance”, “differential power”/”differential resistance”, “explicit power”/”explicit resistance”, “CCCV”.\n",
    "options[\"working electrode\"] = \"both\" # “both” (default) full cell, “negative” or “positive” to indicate a half-cell model.\n",
    "# Particle description\n",
    "options[\"particle\"] = \"Fickian diffusion\" #  “Fickian diffusion” (default), “uniform profile”, “quadratic profile”, or “quartic profile”.\n",
    "options[\"particle shape\"] = \"spherical\" # “spherical” (default), or “no particles”, ()\"user\" ?)\n",
    "options[\"particle size\"] = \"single\" # “single” (default) or “distribution”"
   ]
  },
  {
   "cell_type": "code",
   "execution_count": 5,
   "id": "528e2ba9",
   "metadata": {},
   "outputs": [
    {
     "data": {
      "text/plain": [
       "{'intercalation kinetics': 'symmetric Butler-Volmer',\n",
       " 'thermal': 'isothermal',\n",
       " 'calculate heat source for isothermal models': 'false',\n",
       " 'particle mechanics': 'none',\n",
       " 'stress-induced diffusion': 'false',\n",
       " 'loss of active material': 'none',\n",
       " 'lithium plating': 'none',\n",
       " 'SEI': 'none',\n",
       " 'SEI film resistance': 'none',\n",
       " 'SEI porosity change': 'false',\n",
       " 'operating mode': 'current',\n",
       " 'working electrode': 'both',\n",
       " 'particle': 'Fickian diffusion',\n",
       " 'particle shape': 'spherical',\n",
       " 'particle size': 'single'}"
      ]
     },
     "execution_count": 5,
     "metadata": {},
     "output_type": "execute_result"
    }
   ],
   "source": [
    "options"
   ]
  },
  {
   "cell_type": "markdown",
   "id": "514a78b8",
   "metadata": {},
   "source": [
    "### Create model"
   ]
  },
  {
   "cell_type": "code",
   "execution_count": 6,
   "id": "724a2b8f",
   "metadata": {},
   "outputs": [],
   "source": [
    "model = pybamm.lithium_ion.DFN(options=options)"
   ]
  },
  {
   "cell_type": "markdown",
   "id": "55d89177",
   "metadata": {},
   "source": [
    "## Choose parameters"
   ]
  },
  {
   "cell_type": "code",
   "execution_count": 7,
   "id": "330910ea",
   "metadata": {},
   "outputs": [],
   "source": [
    "parameter_values = pybamm.ParameterValues(\"Chen2020\")\n",
    "#parameter_values = model.default_parameter_values"
   ]
  },
  {
   "cell_type": "markdown",
   "id": "9e6a62bc",
   "metadata": {},
   "source": [
    "### Thickness"
   ]
  },
  {
   "cell_type": "code",
   "execution_count": 8,
   "id": "ce7eea6a",
   "metadata": {},
   "outputs": [],
   "source": [
    "# Thickness [m]\n",
    "Neg_cc_thickness = 2.5e-05\n",
    "Neg_electrode_thickness = 69.745e-6\n",
    "Sep_thickness = 20.202e-6\n",
    "Pos_electrode_thickness = 69.745e-6\n",
    "Pos_cc_thickness = 2.5e-05\n",
    "# Height and width [m]\n",
    "Electrode_height = 100e-6\n",
    "Electrode_width = 100e-6\n",
    "\n",
    "# Cell volume is deduced from above thickness and dimensions [m3]\n",
    "full_thickness = Neg_cc_thickness + Neg_electrode_thickness + Sep_thickness + Pos_electrode_thickness + Pos_cc_thickness\n",
    "cell_volume = full_thickness * Electrode_height * Electrode_width\n",
    "\n",
    "# Update parameters\n",
    "parameter_values.update({\"Negative electrode thickness [m]\": Neg_electrode_thickness})\n",
    "parameter_values.update({\"Separator thickness [m]\": Sep_thickness})\n",
    "parameter_values.update({\"Positive electrode thickness [m]\": Pos_electrode_thickness})\n",
    "parameter_values.update({\"Negative current collector thickness [m]\": Neg_cc_thickness})\n",
    "parameter_values.update({\"Positive current collector thickness [m]\": Pos_cc_thickness})\n",
    "parameter_values.update({\"Electrode height [m]\": Electrode_height})\n",
    "parameter_values.update({\"Electrode width [m]\": Electrode_width})\n",
    "parameter_values.update({\"Cell volume [m3]\": cell_volume})"
   ]
  },
  {
   "cell_type": "markdown",
   "id": "82af8304",
   "metadata": {},
   "source": [
    "### Microstructure parameters"
   ]
  },
  {
   "cell_type": "code",
   "execution_count": 9,
   "id": "dc94e456",
   "metadata": {},
   "outputs": [],
   "source": [
    "# Porosity\n",
    "Neg_electrode_porosity = 0.404\n",
    "Pos_electrode_porosity = 0.5102\n",
    "Sep_porosity = 1.0\n",
    "\n",
    "# Active material volume fraction\n",
    "Neg_electrode_AM = 1-Neg_electrode_porosity\n",
    "Pos_electrode_AM = 1-Pos_electrode_porosity\n",
    "\n",
    "# Radius [m]\n",
    "Neg_particle_radius = 4.547e-6\n",
    "Pos_particle_radius = Neg_particle_radius\n",
    "\n",
    "AMREX_sp_Neg = 0.4346 # [um-1]\n",
    "AMREX_sp_Pos = 0.3872 # [um-1]\n",
    "#AMREX_sp_Neg = AMREX_sp_Neg *3/2 # 2/3\n",
    "#AMREX_sp_Pos = AMREX_sp_Pos *2/3 # 2/3 \n",
    "Neg_particle_radius = 3*Neg_electrode_AM/AMREX_sp_Neg*1e-6\n",
    "Pos_particle_radius = 3*Pos_electrode_AM/AMREX_sp_Pos*1e-6\n",
    "\n",
    "# Bruggeman exponent\n",
    "Ele_Neg_p = 1.61\n",
    "Ele_Pos_p = 1.61\n",
    "Sep_p = 1.0\n",
    "\n",
    "Solid_Neg_p = 3.24\n",
    "Solid_Pos_p = 3.61\n",
    "\n",
    "# Update parameters\n",
    "parameter_values.update({\"Negative electrode porosity\": Neg_electrode_porosity})\n",
    "parameter_values.update({\"Separator porosity\": Sep_porosity})\n",
    "parameter_values.update({\"Positive electrode porosity\": Pos_electrode_porosity})\n",
    "\n",
    "parameter_values.update({\"Negative electrode active material volume fraction\": Neg_electrode_AM})\n",
    "parameter_values.update({\"Positive electrode active material volume fraction\": Pos_electrode_AM})\n",
    "\n",
    "parameter_values.update({\"Negative particle radius [m]\": Neg_particle_radius})\n",
    "parameter_values.update({\"Positive particle radius [m]\": Pos_particle_radius})\n",
    "\n",
    "parameter_values.update({\"Negative electrode Bruggeman coefficient (electrolyte)\": Ele_Neg_p})\n",
    "parameter_values.update({\"Positive electrode Bruggeman coefficient (electrolyte)\": Ele_Pos_p})\n",
    "parameter_values.update({\"Separator Bruggeman coefficient (electrolyte)\": Sep_p})\n",
    "parameter_values.update({\"Negative electrode Bruggeman coefficient (electrode)\": Solid_Neg_p})\n",
    "parameter_values.update({\"Positive electrode Bruggeman coefficient (electrode)\": Solid_Pos_p})"
   ]
  },
  {
   "cell_type": "code",
   "execution_count": 10,
   "id": "55db20d9",
   "metadata": {},
   "outputs": [
    {
     "data": {
      "text/plain": [
       "4.1141279337321665e-06"
      ]
     },
     "execution_count": 10,
     "metadata": {},
     "output_type": "execute_result"
    }
   ],
   "source": [
    "Neg_particle_radius"
   ]
  },
  {
   "cell_type": "code",
   "execution_count": 11,
   "id": "40cf7cc0",
   "metadata": {},
   "outputs": [
    {
     "data": {
      "text/plain": [
       "3.7949380165289256e-06"
      ]
     },
     "execution_count": 11,
     "metadata": {},
     "output_type": "execute_result"
    }
   ],
   "source": [
    "Pos_particle_radius"
   ]
  },
  {
   "cell_type": "code",
   "execution_count": 12,
   "id": "dbf05d6b",
   "metadata": {},
   "outputs": [
    {
     "data": {
      "text/plain": [
       "0.596"
      ]
     },
     "execution_count": 12,
     "metadata": {},
     "output_type": "execute_result"
    }
   ],
   "source": [
    "Neg_electrode_AM"
   ]
  },
  {
   "cell_type": "code",
   "execution_count": 13,
   "id": "23e6fc8a",
   "metadata": {},
   "outputs": [
    {
     "data": {
      "text/plain": [
       "0.4898"
      ]
     },
     "execution_count": 13,
     "metadata": {},
     "output_type": "execute_result"
    }
   ],
   "source": [
    "Pos_electrode_AM"
   ]
  },
  {
   "cell_type": "markdown",
   "id": "ddf6992d",
   "metadata": {},
   "source": [
    "### Material coefficients"
   ]
  },
  {
   "cell_type": "code",
   "execution_count": 14,
   "id": "eb6ed405",
   "metadata": {},
   "outputs": [],
   "source": [
    "parameter_values.update({\"Negative electrode double-layer capacity [F.m-2]\": 0.0})\n",
    "parameter_values.update({\"Positive electrode double-layer capacity [F.m-2]\": 0.0})"
   ]
  },
  {
   "cell_type": "markdown",
   "id": "233f013b",
   "metadata": {},
   "source": [
    "#### Anode"
   ]
  },
  {
   "cell_type": "code",
   "execution_count": 15,
   "id": "d45921e1",
   "metadata": {},
   "outputs": [],
   "source": [
    "# Maximum concentration [mol.m-3]\n",
    "Neg_Csmax = 28000.0 \n",
    "\n",
    "# Conducitvity [S.m-1]\n",
    "Neg_AM_conductivity = 100\n",
    "\n",
    "# Diffusivity [m2.s-1]\n",
    "Neg_AM_diffusivity = 3.0e-14\n",
    "\n",
    "# OCP [V]\n",
    "def Neg_OCP(sto):\n",
    "    a7 = -201.8048\n",
    "    a6 = 730.918\n",
    "    a5 = -1074.645\n",
    "    a4 = 825.0173\n",
    "    a3 = -354.3316\n",
    "    a2 = 84.66978\n",
    "    a1 = -10.57909\n",
    "    a0 = 0.6848288\n",
    "    u_eq = ((((((a7*sto+a6)*sto+a5)*sto+a4)*sto+a3)*sto+a2)*sto+a1)*sto+a0\n",
    "    #a = (0.1-1.0)/(1-0)\n",
    "    #b = 1.0\n",
    "    #u_eq = a * sto + b\n",
    "\n",
    "    x=sto;\n",
    "    \n",
    "    a1 = -1.059423355572770E-02;\n",
    "    a2 = 2.443615203087110E-02;\n",
    "    a3 = -1.637520788053810E-02;\n",
    "    a4 = -6.542365622896410E-02;\n",
    "    a5 = -4.173226059293490E-02;\n",
    "    a6 = - 4.792178163846890E-01;\n",
    "    a7 = - 4.364293924074990E-02;\n",
    "    a8 = - 8.241166396760410E-02;\n",
    "\n",
    "    b1 = 1.453708425609560E-02;\n",
    "    b2 = 5.464261369950400E-01;\n",
    "    b3 = 5.639025014475490E-01;\n",
    "    b4 = 5.960370524233590E-01;\n",
    "    b5 = 1.787670587868640E-01;\n",
    "    b6 = - 3.845707852011820E-03;\n",
    "    b7 = 9.449231893318330E-02;\n",
    "    b8 = 7.746685789572230E-02;\n",
    "\n",
    "    c1 = 9.089868397988610E-05;\n",
    "    c2 = 6.270508166379020E-01;\n",
    "    c3 = 7.053886409518520E-02;\n",
    "    c4 = 1.409966536648620E+00;\n",
    "    c5 = 7.693844911793470E-02;\n",
    "    c6 = 4.112633446959460E-02;\n",
    "    c7 = -2.046776012570780E-02;\n",
    "    c8 = 3.593817905677970E-02;\n",
    "\n",
    "    U1 = a1*np.tanh((x - b1)/c1) + a2*np.tanh((x - b2)/c2) + a3*np.tanh((x - b3)/c3) + a4*np.tanh((x - b4)/c4) + a5*np.tanh((x - b5)/c5) + a6*np.tanh((x - b6)/c6) + a7*np.tanh((x - b7)/c7) + a8*np.tanh((x - b8)/c8) + 6.594735004847470e-1;\n",
    "\n",
    "    d0 = - 5.037944982759270E+01;\n",
    "    d1 = - 1.228217254296760E+01;\n",
    "    d2 = - 6.906367679257650E+01;\n",
    "    d3 = + 3.437968012320620E+00;\n",
    "    d4 = + 3.322960033709470E+01;\n",
    "    d5 = + 5.913206621637760E+01;\n",
    "    d6 = 1.233160814852810E+02;\n",
    "    d7 = + 8.252008712749000E+01;\n",
    "    d8 = -1.731504647676420E+02;\n",
    "\n",
    "    U2 = (((((((d8*x+d7)*x+d6)*x+d5)*x+d4)*x+d3)*x+d2)*x+d1)*x+d0;\n",
    "\n",
    "    u_eq = U1 + (U2 - U1) / (1.0 + exp(-1.0e2*(x - 1.02956203215198)));\n",
    "    \n",
    "    \n",
    "    return u_eq\n",
    "\n",
    "\n",
    "# OCP [V]\n",
    "def Neg_OCP_50(sto):\n",
    "    a50 = 1.849122616922419e+11\n",
    "    a49 = -8.819931896222262e+11\n",
    "    a48 = 1.062001604515950e+12\n",
    "    a47 = 8.048790438835729e+11\n",
    "    a46 = -1.060182892793802e+12\n",
    "    a45 = -4.651896688128494e+12\n",
    "    a44 = 8.995414013554387e+12\n",
    "    a43 = -4.300349639365752e+12\n",
    "    a42 = -2.142516757097118e+12\n",
    "    a41 = 3.323690560807937e+12\n",
    "    a40 = -6.685187880604164e+11\n",
    "    a39 = -3.163161356880362e+12\n",
    "    a38 = 2.470673249031745e+12\n",
    "    a37 = 1.171783266082327e+12\n",
    "    a36 = 2.661195602592427e+11\n",
    "    a35 = -1.691500669721415e+12\n",
    "    a34 = -2.547832440424103e+11\n",
    "    a33 = -1.054177643187864e+12\n",
    "    a32 = 2.573545837168061e+12\n",
    "    a31 = -2.319617836086824e+12\n",
    "    a30 = 3.497386914762157e+12\n",
    "    a29 = -4.697106157391917e+11\n",
    "    a28 = -4.269163383547113e+12\n",
    "    a27 = 1.273993534496442e+12\n",
    "    a26 = 2.884810158989975e+12\n",
    "    a25 = -1.701152113674523e+12\n",
    "    a24 = 3.863238732235334e+11\n",
    "    a23 = 2.493387408332381e+11\n",
    "    a22 = -6.014234616707753e+11\n",
    "    a21 = -2.170733087417286e+12\n",
    "    a20 = 3.508629254615213e+12\n",
    "    a19 = 8.717504619145695e+11\n",
    "    a18 = -4.013773805798723e+12\n",
    "    a17 = 8.237523654266400e+11\n",
    "    a16 = 2.729241854285399e+12\n",
    "    a15 = -1.191208378843619e+12\n",
    "    a14 = -2.671902822734573e+12\n",
    "    a13 = 4.347133409197471e+12\n",
    "    a12 = -3.383127439558777e+12\n",
    "    a11 = 1.722486917784050e+12\n",
    "    a10 = -6.253481579662831e+11\n",
    "    a9 = 1.672084816724424e+11\n",
    "    a8 = -3.323385542075727e+10\n",
    "    a7 = 4.884980643590547e+09\n",
    "    a6 = -5.218957697925340e+08\n",
    "    a5 = 3.930452809855016e+07\n",
    "    a4 = -1.987318921641952e+06\n",
    "    a3 = 6.202857360445586e+04\n",
    "    a2 = -9.445742616152827e+02\n",
    "    a1 = -6.079599769084051\n",
    "    a0 = 0.721379887964261\n",
    "    u_eq = (((((((((((((((((((((((((((((((((((((((((((((((((a50*sto+a49)*sto+a48)*sto+a47)*sto+a46)*sto+a45)*sto+a44)*sto+a43)*sto+a42)*sto+a41)*sto+a40)*sto+a39)*sto+a38)*sto+a37)*sto+a36)*sto+a35)*sto+a34)*sto+a33)*sto+a32)*sto+a31)*sto+a30)*sto+a29)*sto+a28)*sto+a27)*sto+a26)*sto+a25)*sto+a24)*sto+a23)*sto+a22)*sto+a21)*sto+a20)*sto+a19)*sto+a18)*sto+a17)*sto+a16)*sto+a15)*sto+a14)*sto+a13)*sto+a12)*sto+a11)*sto+a10)*sto+a9)*sto+a8)*sto+a7)*sto+a6)*sto+a5)*sto+a4)*sto+a3)*sto+a2)*sto+a1)*sto+a0\n",
    "    #a = (0.1-1.0)/(1-0)\n",
    "    #b = 1.0\n",
    "    #u_eq = a * sto + b\n",
    "\n",
    "    return u_eq\n",
    "\n",
    "def Neg_OCP_bis(x):\n",
    "\n",
    "    tolerance = 1e-9\n",
    "    x_threshold_1 = -0.1000000000\n",
    "    x_threshold_2 = 0.0000000000\n",
    "    x_threshold_3 = 0.0010000000\n",
    "    x_threshold_4 = 0.0130000000\n",
    "    x_threshold_5 = 0.0142500000\n",
    "    x_threshold_6 = 0.0147500000\n",
    "    x_threshold_7 = 0.0160000000\n",
    "    x_threshold_8 = 0.0250000000\n",
    "    x_threshold_9 = 0.0500000000\n",
    "    x_threshold_10 = 0.0750000000\n",
    "    x_threshold_11 = 0.0850000000\n",
    "    x_threshold_12 = 0.0950000000\n",
    "    x_threshold_13 = 0.1100000000\n",
    "    x_threshold_14 = 0.1175000000\n",
    "    x_threshold_15 = 0.1200000000\n",
    "    x_threshold_16 = 0.1750000000\n",
    "    x_threshold_17 = 0.2000000000\n",
    "    x_threshold_18 = 0.2500000000\n",
    "    x_threshold_19 = 0.3200000000\n",
    "    x_threshold_20 = 0.4000000000\n",
    "    x_threshold_21 = 0.4750000000\n",
    "    x_threshold_22 = 0.5500000000\n",
    "    x_threshold_23 = 0.6000000000\n",
    "    x_threshold_24 = 0.6500000000\n",
    "    x_threshold_25 = 0.7500000000\n",
    "    x_threshold_26 = 0.8500000000\n",
    "    x_threshold_27 = 0.9100000000\n",
    "    x_threshold_28 = 0.9400000000\n",
    "    x_threshold_29 = 0.9800000000\n",
    "    x_threshold_30 = 1.0000000000\n",
    "    a1_3 = 0.0000000000\n",
    "    a1_2 = 0.0000000000\n",
    "    a1_1 = 0.0000000000\n",
    "    a1_0 = 0.7282583829\n",
    "    u1 = ((a1_3 *(x-x_threshold_1) +a1_2)*(x-x_threshold_1)+a1_1)*(x-x_threshold_1)+a1_0\n",
    "    a2_3 = 11926302.8817398995\n",
    "    a2_2 = -23611.1304952030\n",
    "    a2_1 = 0.0000000000\n",
    "    a2_0 = 0.7282583829\n",
    "    u2 = ((a2_3 *(x-x_threshold_2) +a2_2)*(x-x_threshold_2)+a2_1)*(x-x_threshold_2)+a2_0\n",
    "    a3_3 = 1423.3287937244\n",
    "    a3_2 = 16.8588316717\n",
    "    a3_1 = -11.4433523452\n",
    "    a3_0 = 0.7165735553\n",
    "    u3 = ((a3_3 *(x-x_threshold_3) +a3_2)*(x-x_threshold_3)+a3_1)*(x-x_threshold_3)+a3_0\n",
    "    a4_3 = -5714502.9081248762\n",
    "    a4_2 = 7400.5837650184\n",
    "    a4_1 = -10.4238623462\n",
    "    a4_0 = 0.5841405110\n",
    "    u4 = ((a4_3 *(x-x_threshold_4) +a4_2)*(x-x_threshold_4)+a4_1)*(x-x_threshold_4)+a4_0\n",
    "    a5_3 = 266086504.1706757545\n",
    "    a5_2 = -199279.9169415584\n",
    "    a5_1 = -18.7091353155\n",
    "    a5_0 = 0.5715129567\n",
    "    u5 = ((a5_3 *(x-x_threshold_5) +a5_2)*(x-x_threshold_5)+a5_1)*(x-x_threshold_5)+a5_0\n",
    "    a6_3 = -5153816.5410540095\n",
    "    a6_2 = 13254.4465299317\n",
    "    a6_1 = -18.4241741290\n",
    "    a6_0 = 0.5455992229\n",
    "    u6 = ((a6_3 *(x-x_threshold_6) +a6_2)*(x-x_threshold_6)+a6_1)*(x-x_threshold_6)+a6_0\n",
    "    a7_3 = 10473.7332153562\n",
    "    a7_2 = -18.2179680221\n",
    "    a7_1 = -9.4465728404\n",
    "    a7_0 = 0.5332130300\n",
    "    u7 = ((a7_3 *(x-x_threshold_7) +a7_2)*(x-x_threshold_7)+a7_1)*(x-x_threshold_7)+a7_0\n",
    "    a8_3 = 220.8860442081\n",
    "    a8_2 = 50.4515717973\n",
    "    a8_1 = -7.2293790934\n",
    "    a8_0 = 0.4543535705\n",
    "    u8 = ((a8_3 *(x-x_threshold_8) +a8_2)*(x-x_threshold_8)+a8_1)*(x-x_threshold_8)+a8_0\n",
    "    a9_3 = 315.0024788525\n",
    "    a9_2 = 27.9555458158\n",
    "    a9_1 = -4.2926391707\n",
    "    a9_0 = 0.3086026700\n",
    "    u9 = ((a9_3 *(x-x_threshold_9) +a9_2)*(x-x_threshold_9)+a9_1)*(x-x_threshold_9)+a9_0\n",
    "    a10_3 = 3875.0038101122\n",
    "    a10_2 = 6.0345001128\n",
    "    a10_1 = -2.3042322321\n",
    "    a10_0 = 0.2236808206\n",
    "    u10 = ((a10_3 *(x-x_threshold_10) +a10_2)*(x-x_threshold_10)+a10_1)*(x-x_threshold_10)+a10_0\n",
    "    a11_3 = 769.6590680163\n",
    "    a11_2 = 23.9901504802\n",
    "    a11_1 = -1.0210410868\n",
    "    a11_0 = 0.2051169521\n",
    "    u11 = ((a11_3 *(x-x_threshold_11) +a11_2)*(x-x_threshold_11)+a11_1)*(x-x_threshold_11)+a11_0\n",
    "    a12_3 = -908.5378590195\n",
    "    a12_2 = 21.6956687670\n",
    "    a12_1 = -0.3103403568\n",
    "    a12_0 = 0.1980752154\n",
    "    u12 = ((a12_3 *(x-x_threshold_12) +a12_2)*(x-x_threshold_12)+a12_1)*(x-x_threshold_12)+a12_0\n",
    "    a13_3 = 1527.5780423977\n",
    "    a13_2 = -31.2482302730\n",
    "    a13_1 = -0.2727333486\n",
    "    a13_0 = 0.1952353202\n",
    "    u13 = ((a13_3 *(x-x_threshold_13) +a13_2)*(x-x_threshold_13)+a13_1)*(x-x_threshold_13)+a13_0\n",
    "    a14_3 = 4762.2715022035\n",
    "    a14_2 = -34.8483973948\n",
    "    a14_1 = -0.4836780080\n",
    "    a14_0 = 0.1920765541\n",
    "    u14 = ((a14_3 *(x-x_threshold_14) +a14_2)*(x-x_threshold_14)+a14_1)*(x-x_threshold_14)+a14_0\n",
    "    a15_3 = 31.2454842782\n",
    "    a15_2 = -2.8116646887\n",
    "    a15_1 = -0.5686274043\n",
    "    a15_0 = 0.1907239671\n",
    "    u15 = ((a15_3 *(x-x_threshold_15) +a15_2)*(x-x_threshold_15)+a15_1)*(x-x_threshold_15)+a15_0\n",
    "    a16_3 = 105.3784526523\n",
    "    a16_2 = -1.6642476972\n",
    "    a16_1 = -0.5943577503\n",
    "    a16_0 = 0.1561426416\n",
    "    u16 = ((a16_3 *(x-x_threshold_16) +a16_2)*(x-x_threshold_16)+a16_1)*(x-x_threshold_16)+a16_0\n",
    "    a17_3 = 41.5611794346\n",
    "    a17_2 = -0.4942109034\n",
    "    a17_1 = -0.4799855364\n",
    "    a17_0 = 0.1418900814\n",
    "    u17 = ((a17_3 *(x-x_threshold_17) +a17_2)*(x-x_threshold_17)+a17_1)*(x-x_threshold_17)+a17_0\n",
    "    a18_3 = 2.6111111061\n",
    "    a18_2 = 0.8683963411\n",
    "    a18_1 = -0.2176977810\n",
    "    a18_0 = 0.1218504247\n",
    "    u18 = ((a18_3 *(x-x_threshold_18) +a18_2)*(x-x_threshold_18)+a18_1)*(x-x_threshold_18)+a18_0\n",
    "    a19_3 = -3.7681906612\n",
    "    a19_2 = 0.5794833137\n",
    "    a19_1 = -0.0577389600\n",
    "    a19_0 = 0.1117623333\n",
    "    u19 = ((a19_3 *(x-x_threshold_19) +a19_2)*(x-x_threshold_19)+a19_1)*(x-x_threshold_19)+a19_0\n",
    "    a20_3 = -3.7469598757\n",
    "    a20_2 = 0.2538702860\n",
    "    a20_1 = -0.0373708905\n",
    "    a20_0 = 0.1089225960\n",
    "    u20 = ((a20_3 *(x-x_threshold_20) +a20_2)*(x-x_threshold_20)+a20_1)*(x-x_threshold_20)+a20_0\n",
    "    a21_3 = 10.0248014636\n",
    "    a21_2 = -1.9343091906\n",
    "    a21_1 = -0.0625202955\n",
    "    a21_0 = 0.1059670509\n",
    "    u21 = ((a21_3 *(x-x_threshold_21) +a21_2)*(x-x_threshold_21)+a21_1)*(x-x_threshold_21)+a21_0\n",
    "    a22_3 = 41.5566659294\n",
    "    a22_2 = -2.9213184960\n",
    "    a22_1 = -0.1834981494\n",
    "    a22_0 = 0.0946267527\n",
    "    u22 = ((a22_3 *(x-x_threshold_22) +a22_2)*(x-x_threshold_22)+a22_1)*(x-x_threshold_22)+a22_0\n",
    "    a23_3 = 14.3491845594\n",
    "    a23_2 = -0.0132674376\n",
    "    a23_1 = -0.1639550045\n",
    "    a23_0 = 0.0833431322\n",
    "    u23 = ((a23_3 *(x-x_threshold_23) +a23_2)*(x-x_threshold_23)+a23_1)*(x-x_threshold_23)+a23_0\n",
    "    a24_3 = -3.0666412061\n",
    "    a24_2 = 0.5421219431\n",
    "    a24_1 = -0.0576628641\n",
    "    a24_0 = 0.0769058615\n",
    "    u24 = ((a24_3 *(x-x_threshold_24) +a24_2)*(x-x_threshold_24)+a24_1)*(x-x_threshold_24)+a24_0\n",
    "    a25_3 = -2.1896765016\n",
    "    a25_2 = 0.1101983650\n",
    "    a25_1 = -0.0412377116\n",
    "    a25_0 = 0.0734941533\n",
    "    u25 = ((a25_3 *(x-x_threshold_25) +a25_2)*(x-x_threshold_25)+a25_1)*(x-x_threshold_25)+a25_0\n",
    "    a26_3 = -0.7768499661\n",
    "    a26_2 = -1.5624903228\n",
    "    a26_1 = -0.0848883337\n",
    "    a26_0 = 0.0682826893\n",
    "    u26 = ((a26_3 *(x-x_threshold_26) +a26_2)*(x-x_threshold_26)+a26_1)*(x-x_threshold_26)+a26_0\n",
    "    a27_3 = 195.1414050167\n",
    "    a27_2 = -13.1494195369\n",
    "    a27_1 = -0.2807771521\n",
    "    a27_0 = 0.0573966245\n",
    "    u27 = ((a27_3 *(x-x_threshold_27) +a27_2)*(x-x_threshold_27)+a27_1)*(x-x_threshold_27)+a27_0\n",
    "    a28_3 = -58.7314709159\n",
    "    a28_2 = 0.9217794841\n",
    "    a28_1 = -0.5428605307\n",
    "    a28_0 = 0.0424076503\n",
    "    u28 = ((a28_3 *(x-x_threshold_28) +a28_2)*(x-x_threshold_28)+a28_1)*(x-x_threshold_28)+a28_0\n",
    "    a29_3 = -135.0840380503\n",
    "    a29_2 = -6.7708021843\n",
    "    a29_1 = -0.7510292324\n",
    "    a29_0 = 0.0184092621\n",
    "    u29 = ((a29_3 *(x-x_threshold_29) +a29_2)*(x-x_threshold_29)+a29_1)*(x-x_threshold_29)+a29_0\n",
    "    a30_3 = -6.7563615576\n",
    "    a30_2 = -7.4447106160\n",
    "    a30_1 = -1.1839621654\n",
    "    a30_0 = -0.0004003157\n",
    "    u30 = ((a30_3 *(x-x_threshold_30) +a30_2)*(x-x_threshold_30)+a30_1)*(x-x_threshold_30)+a30_0\n",
    "    sign1a = np.sign(x_threshold_2-x-tolerance)\n",
    "    sign1b = np.sign(x-x_threshold_2+tolerance)\n",
    "    sign2a = np.sign(x_threshold_3-x-tolerance)\n",
    "    sign2b = np.sign(x-x_threshold_3+tolerance)\n",
    "    sign3a = np.sign(x_threshold_4-x-tolerance)\n",
    "    sign3b = np.sign(x-x_threshold_4+tolerance)\n",
    "    sign4a = np.sign(x_threshold_5-x-tolerance)\n",
    "    sign4b = np.sign(x-x_threshold_5+tolerance)\n",
    "    sign5a = np.sign(x_threshold_6-x-tolerance)\n",
    "    sign5b = np.sign(x-x_threshold_6+tolerance)\n",
    "    sign6a = np.sign(x_threshold_7-x-tolerance)\n",
    "    sign6b = np.sign(x-x_threshold_7+tolerance)\n",
    "    sign7a = np.sign(x_threshold_8-x-tolerance)\n",
    "    sign7b = np.sign(x-x_threshold_8+tolerance)\n",
    "    sign8a = np.sign(x_threshold_9-x-tolerance)\n",
    "    sign8b = np.sign(x-x_threshold_9+tolerance)\n",
    "    sign9a = np.sign(x_threshold_10-x-tolerance)\n",
    "    sign9b = np.sign(x-x_threshold_10+tolerance)\n",
    "    sign10a = np.sign(x_threshold_11-x-tolerance)\n",
    "    sign10b = np.sign(x-x_threshold_11+tolerance)\n",
    "    sign11a = np.sign(x_threshold_12-x-tolerance)\n",
    "    sign11b = np.sign(x-x_threshold_12+tolerance)\n",
    "    sign12a = np.sign(x_threshold_13-x-tolerance)\n",
    "    sign12b = np.sign(x-x_threshold_13+tolerance)\n",
    "    sign13a = np.sign(x_threshold_14-x-tolerance)\n",
    "    sign13b = np.sign(x-x_threshold_14+tolerance)\n",
    "    sign14a = np.sign(x_threshold_15-x-tolerance)\n",
    "    sign14b = np.sign(x-x_threshold_15+tolerance)\n",
    "    sign15a = np.sign(x_threshold_16-x-tolerance)\n",
    "    sign15b = np.sign(x-x_threshold_16+tolerance)\n",
    "    sign16a = np.sign(x_threshold_17-x-tolerance)\n",
    "    sign16b = np.sign(x-x_threshold_17+tolerance)\n",
    "    sign17a = np.sign(x_threshold_18-x-tolerance)\n",
    "    sign17b = np.sign(x-x_threshold_18+tolerance)\n",
    "    sign18a = np.sign(x_threshold_19-x-tolerance)\n",
    "    sign18b = np.sign(x-x_threshold_19+tolerance)\n",
    "    sign19a = np.sign(x_threshold_20-x-tolerance)\n",
    "    sign19b = np.sign(x-x_threshold_20+tolerance)\n",
    "    sign20a = np.sign(x_threshold_21-x-tolerance)\n",
    "    sign20b = np.sign(x-x_threshold_21+tolerance)\n",
    "    sign21a = np.sign(x_threshold_22-x-tolerance)\n",
    "    sign21b = np.sign(x-x_threshold_22+tolerance)\n",
    "    sign22a = np.sign(x_threshold_23-x-tolerance)\n",
    "    sign22b = np.sign(x-x_threshold_23+tolerance)\n",
    "    sign23a = np.sign(x_threshold_24-x-tolerance)\n",
    "    sign23b = np.sign(x-x_threshold_24+tolerance)\n",
    "    sign24a = np.sign(x_threshold_25-x-tolerance)\n",
    "    sign24b = np.sign(x-x_threshold_25+tolerance)\n",
    "    sign25a = np.sign(x_threshold_26-x-tolerance)\n",
    "    sign25b = np.sign(x-x_threshold_26+tolerance)\n",
    "    sign26a = np.sign(x_threshold_27-x-tolerance)\n",
    "    sign26b = np.sign(x-x_threshold_27+tolerance)\n",
    "    sign27a = np.sign(x_threshold_28-x-tolerance)\n",
    "    sign27b = np.sign(x-x_threshold_28+tolerance)\n",
    "    sign28a = np.sign(x_threshold_29-x-tolerance)\n",
    "    sign28b = np.sign(x-x_threshold_29+tolerance)\n",
    "    sign29a = np.sign(x_threshold_30-x-tolerance)\n",
    "    sign29b = np.sign(x-x_threshold_30+tolerance)\n",
    "    validity_1 = (sign1a + abs(sign1a))/2\n",
    "    validity_2 = ((sign1b + abs(sign1b))/2 + (sign2a + abs(sign2a))/2)-1\n",
    "    validity_3 = ((sign2b + abs(sign2b))/2 + (sign3a + abs(sign3a))/2)-1\n",
    "    validity_4 = ((sign3b + abs(sign3b))/2 + (sign4a + abs(sign4a))/2)-1\n",
    "    validity_5 = ((sign4b + abs(sign4b))/2 + (sign5a + abs(sign5a))/2)-1\n",
    "    validity_6 = ((sign5b + abs(sign5b))/2 + (sign6a + abs(sign6a))/2)-1\n",
    "    validity_7 = ((sign6b + abs(sign6b))/2 + (sign7a + abs(sign7a))/2)-1\n",
    "    validity_8 = ((sign7b + abs(sign7b))/2 + (sign8a + abs(sign8a))/2)-1\n",
    "    validity_9 = ((sign8b + abs(sign8b))/2 + (sign9a + abs(sign9a))/2)-1\n",
    "    validity_10 = ((sign9b + abs(sign9b))/2 + (sign10a + abs(sign10a))/2)-1\n",
    "    validity_11 = ((sign10b + abs(sign10b))/2 + (sign11a + abs(sign11a))/2)-1\n",
    "    validity_12 = ((sign11b + abs(sign11b))/2 + (sign12a + abs(sign12a))/2)-1\n",
    "    validity_13 = ((sign12b + abs(sign12b))/2 + (sign13a + abs(sign13a))/2)-1\n",
    "    validity_14 = ((sign13b + abs(sign13b))/2 + (sign14a + abs(sign14a))/2)-1\n",
    "    validity_15 = ((sign14b + abs(sign14b))/2 + (sign15a + abs(sign15a))/2)-1\n",
    "    validity_16 = ((sign15b + abs(sign15b))/2 + (sign16a + abs(sign16a))/2)-1\n",
    "    validity_17 = ((sign16b + abs(sign16b))/2 + (sign17a + abs(sign17a))/2)-1\n",
    "    validity_18 = ((sign17b + abs(sign17b))/2 + (sign18a + abs(sign18a))/2)-1\n",
    "    validity_19 = ((sign18b + abs(sign18b))/2 + (sign19a + abs(sign19a))/2)-1\n",
    "    validity_20 = ((sign19b + abs(sign19b))/2 + (sign20a + abs(sign20a))/2)-1\n",
    "    validity_21 = ((sign20b + abs(sign20b))/2 + (sign21a + abs(sign21a))/2)-1\n",
    "    validity_22 = ((sign21b + abs(sign21b))/2 + (sign22a + abs(sign22a))/2)-1\n",
    "    validity_23 = ((sign22b + abs(sign22b))/2 + (sign23a + abs(sign23a))/2)-1\n",
    "    validity_24 = ((sign23b + abs(sign23b))/2 + (sign24a + abs(sign24a))/2)-1\n",
    "    validity_25 = ((sign24b + abs(sign24b))/2 + (sign25a + abs(sign25a))/2)-1\n",
    "    validity_26 = ((sign25b + abs(sign25b))/2 + (sign26a + abs(sign26a))/2)-1\n",
    "    validity_27 = ((sign26b + abs(sign26b))/2 + (sign27a + abs(sign27a))/2)-1\n",
    "    validity_28 = ((sign27b + abs(sign27b))/2 + (sign28a + abs(sign28a))/2)-1\n",
    "    validity_29 = ((sign28b + abs(sign28b))/2 + (sign29a + abs(sign29a))/2)-1\n",
    "    validity_30 = (sign29b + abs(sign29b))/2\n",
    "    OCP = validity_1*u1 + validity_2*u2 + validity_3*u3 + validity_4*u4 + validity_5*u5 + validity_6*u6 + validity_7*u7 + validity_8*u8 + validity_9*u9 + validity_10*u10 + validity_11*u11 + validity_12*u12 + validity_13*u13 + validity_14*u14 + validity_15*u15 + validity_16*u16 + validity_17*u17 + validity_18*u18 + validity_19*u19 + validity_20*u20 + validity_21*u21 + validity_22*u22 + validity_23*u23 + validity_24*u24 + validity_25*u25 + validity_26*u26 + validity_27*u27 + validity_28*u28 + validity_29*u29 + validity_30*u30\n",
    "    return OCP\n",
    "\n",
    "\n",
    "# Exchange-current density [A.m-2] \n",
    "def Neg_io(c_e, c_s_surf, T,T2):\n",
    "    #cs_max = Parameter(\"Maximum concentration in negative electrode [mol.m-3]\")\n",
    "    cs_max = 28000.0 # [mol.m-3]\n",
    "    return 11 * (c_e/1000)** 0.5 * (c_s_surf/cs_max)** 0.5 * (1-c_s_surf/cs_max)** 0.5\n",
    "\n",
    "# Update parameters\n",
    "parameter_values.update({\"Negative electrode conductivity [S.m-1]\": Neg_AM_conductivity})\n",
    "parameter_values.update({\"Negative electrode diffusivity [m2.s-1]\": Neg_AM_diffusivity})\n",
    "parameter_values.update({\"Negative electrode OCP [V]\": Neg_OCP_50})\n",
    "parameter_values.update({\"Negative electrode exchange-current density [A.m-2]\": Neg_io})\n"
   ]
  },
  {
   "cell_type": "code",
   "execution_count": 16,
   "id": "8d98277c",
   "metadata": {},
   "outputs": [
    {
     "data": {
      "image/png": "[encoded data removed]",
      "text/plain": [
       "<Figure size 640x480 with 1 Axes>"
      ]
     },
     "metadata": {},
     "output_type": "display_data"
    },
    {
     "data": {
      "image/png": "[encoded data removed]",
      "text/plain": [
       "<Figure size 640x480 with 1 Axes>"
      ]
     },
     "metadata": {},
     "output_type": "display_data"
    }
   ],
   "source": [
    "xs = np.linspace(0, 1, 1000)\n",
    "us = np.linspace(0, 1, 1000)\n",
    "io = np.linspace(0, 1, 1000)\n",
    "k=-1\n",
    "c_e = 1200\n",
    "for x in xs:\n",
    "    k=k+1\n",
    "    us[k] = Neg_OCP_50(x) - Neg_OCP_bis(x)\n",
    "    c_s_surf = x*28000\n",
    "    io[k] = Neg_io(c_e, c_s_surf, 1,1)\n",
    "\n",
    "plt.plot(xs, us)\n",
    "plt.show()\n",
    "plt.plot(xs, io)\n",
    "plt.show()"
   ]
  },
  {
   "cell_type": "markdown",
   "id": "ca76ea73",
   "metadata": {},
   "source": [
    "#### Cathode"
   ]
  },
  {
   "cell_type": "code",
   "execution_count": 17,
   "id": "e1fde6e0",
   "metadata": {},
   "outputs": [],
   "source": [
    "# Maximum concentration [mol.m-3]\n",
    "Pos_Csmax = 49600.0\n",
    "\n",
    "# Conducitvity [S.m-1]\n",
    "Pos_AM_conductivity = 10\n",
    "\n",
    "# Diffusivity [m2.s-1]\n",
    "Pos_AM_diffusivity = 1.0e-15\n",
    "def Pos_diffusivity(x,foo1):\n",
    "    tolerance = 1e-9\n",
    "    x_threshold_1 = -0.10000000000000000555\n",
    "    x_threshold_2 = 0.00000000000000000000\n",
    "    x_threshold_3 = 0.10000000000000000555\n",
    "    x_threshold_4 = 0.40000000000000002220\n",
    "    x_threshold_5 = 0.59999999999999997780\n",
    "    x_threshold_6 = 0.80000000000000004441\n",
    "    a1_3 = 0.00000000000000000000\n",
    "    a1_2 = 0.00000000000000000000\n",
    "    a1_1 = 0.00000000000000000000\n",
    "    a1_0 = 0.00000000000000205222\n",
    "    u1 = ((a1_3 *(x-x_threshold_1) +a1_2)*(x-x_threshold_1)+a1_1)*(x-x_threshold_1)+a1_0\n",
    "    a2_3 = 0.00000000000000000000\n",
    "    a2_2 = 0.00000000000000000000\n",
    "    a2_1 = 0.00000000000000000000\n",
    "    a2_0 = 0.00000000000000205222\n",
    "    u2 = ((a2_3 *(x-x_threshold_2) +a2_2)*(x-x_threshold_2)+a2_1)*(x-x_threshold_2)+a2_0\n",
    "    a3_3 = -0.00000000000000001127\n",
    "    a3_2 = -0.00000000000000007010\n",
    "    a3_1 = 0.00000000000000000000\n",
    "    a3_0 = 0.00000000000000205222\n",
    "    u3 = ((a3_3 *(x-x_threshold_3) +a3_2)*(x-x_threshold_3)+a3_1)*(x-x_threshold_3)+a3_0\n",
    "    a4_3 = 0.00000000000000146457\n",
    "    a4_2 = -0.00000000000000272898\n",
    "    a4_1 = -0.00000000000000004510\n",
    "    a4_0 = 0.00000000000000204560\n",
    "    u4 = ((a4_3 *(x-x_threshold_4) +a4_2)*(x-x_threshold_4)+a4_1)*(x-x_threshold_4)+a4_0\n",
    "    a5_3 = 0.00000000000020947640\n",
    "    a5_2 = -0.00000000000006175755\n",
    "    a5_1 = -0.00000000000000096095\n",
    "    a5_0 = 0.00000000000000193914\n",
    "    u5 = ((a5_3 *(x-x_threshold_5) +a5_2)*(x-x_threshold_5)+a5_1)*(x-x_threshold_5)+a5_0\n",
    "    a6_3 = -0.00000000000000006031\n",
    "    a6_2 = 0.00000000000000090514\n",
    "    a6_1 = -0.00000000000000052680\n",
    "    a6_0 = 0.00000000000000095246\n",
    "    u6 = ((a6_3 *(x-x_threshold_6) +a6_2)*(x-x_threshold_6)+a6_1)*(x-x_threshold_6)+a6_0\n",
    "    sign1a = np.sign(x_threshold_2-x-tolerance)\n",
    "    sign1b = np.sign(x-x_threshold_2+tolerance)\n",
    "    sign2a = np.sign(x_threshold_3-x-tolerance)\n",
    "    sign2b = np.sign(x-x_threshold_3+tolerance)\n",
    "    sign3a = np.sign(x_threshold_4-x-tolerance)\n",
    "    sign3b = np.sign(x-x_threshold_4+tolerance)\n",
    "    sign4a = np.sign(x_threshold_5-x-tolerance)\n",
    "    sign4b = np.sign(x-x_threshold_5+tolerance)\n",
    "    sign5a = np.sign(x_threshold_6-x-tolerance)\n",
    "    sign5b = np.sign(x-x_threshold_6+tolerance)\n",
    "    validity_1 = (sign1a + abs(sign1a))/2\n",
    "    validity_2 = ((sign1b + abs(sign1b))/2 + (sign2a + abs(sign2a))/2)-1\n",
    "    validity_3 = ((sign2b + abs(sign2b))/2 + (sign3a + abs(sign3a))/2)-1\n",
    "    validity_4 = ((sign3b + abs(sign3b))/2 + (sign4a + abs(sign4a))/2)-1\n",
    "    validity_5 = ((sign4b + abs(sign4b))/2 + (sign5a + abs(sign5a))/2)-1\n",
    "    validity_6 = (sign5b + abs(sign5b))/2\n",
    "    D = 1.5*(validity_1*u1 + validity_2*u2 + validity_3*u3 + validity_4*u4 + validity_5*u5 + validity_6*u6)\n",
    "    return D\n",
    "\n",
    "\n",
    "\n",
    "\n",
    "def Pos_diffusivity_20(x,foo1):\n",
    "    a0 = 2.050939463450216e-15\n",
    "    a1 = 4.906379385751034e-16\n",
    "    a2 = -4.512662046747367e-14\n",
    "    a3 = 1.743799706826960e-12\n",
    "    a4 = -3.484131352926698e-11\n",
    "    a5 = 3.867802051286413e-10\n",
    "    a6 = -2.185952454446075e-09\n",
    "    a7 = 4.481842065696113e-10\n",
    "    a8 = 9.462084979990415e-08\n",
    "    a9 = -8.327439324590463e-07\n",
    "    a10 =  4.157435663768317e-06\n",
    "    a11 = -1.420378458264979e-05\n",
    "    a12 = 3.527387887933269e-05\n",
    "    a13 = -6.528806014168008e-05\n",
    "    a14 = 9.082307786468938e-05\n",
    "    a15 = -9.465598077653415e-05\n",
    "    a16 = 7.282701096327702e-05\n",
    "    a17 = -4.014323811973929e-05\n",
    "    a18 = 1.499682485111289e-05\n",
    "    a19 = -3.401211046478066e-06\n",
    "    a20 = 3.535536565858312e-07\n",
    "    \n",
    "    D = 1.5 * (((((((((((((((((((a20*x+a19)*x+a18)*x+a17)*x+a16)*x+a15)*x+a14)*x+a13)*x+a12)*x+a11)*x+a10)*x+a9)*x+a8)*x+a7)*x+a6)*x+a5)*x+a4)*x+a3)*x+a2)*x+a1)*x+a0\n",
    "    return D\n",
    "\n",
    "\n",
    "\n",
    "# OCP [V]\n",
    "def Pos_OCP(sto):\n",
    "    a3 = -1.371166\n",
    "    a2 = 3.9033218\n",
    "    a1 = -4.3438781\n",
    "    a0 = 5.3701447\n",
    "    u_eq = ((a3*sto+a2)*sto+a1)*sto+a0;    \n",
    "    #a = 2\n",
    "    #b = -4\n",
    "    #c = 5\n",
    "    #u_eq = a*sto*sto + b*sto + c\n",
    "    return u_eq\n",
    "\n",
    "def Pos_OCP_bis(sto):\n",
    "    a14=-3.640118e3;\n",
    "    a13=1.317658e4;\n",
    "    a12=- 1.455742e4;\n",
    "    a11=- 1.571094e3;\n",
    "    a10=1.265631e4;\n",
    "    a9=- 2.057809e3;\n",
    "    a8=- 1.074374e4;\n",
    "    a7=8.698113e3;\n",
    "    a6=- 8.297905e2;\n",
    "    a5=- 2.073765e3;\n",
    "    a4=1.190223e3;\n",
    "    a3=- 2.724852e2;\n",
    "    a2=2.723409e1;\n",
    "    a1=- 4.158277;\n",
    "    a0=5.314736;\n",
    "    A = (((((((((((((a14*sto+a13)*sto+a12)*sto+a11)*sto+a10)*sto+a9)*sto+a8)*sto+a7)*sto+a6)*sto+a5)*sto+a4)*sto+a3)*sto+a2)*sto+a1)*sto+a0;\n",
    "    u_eq = A - 5.573191e-4 * np.exp( 6.560241 * sto**41.482093 );      \n",
    "\n",
    "    return u_eq\n",
    "\n",
    "def Pos_OCP_20(sto):\n",
    "    a0 = 5.308816955459458\n",
    "    a1 = -1.819242193096913\n",
    "    a2 = -2.289403715054488e+02\n",
    "    a3 = 1.206301776940133e+04\n",
    "    a4 = -3.276111797393548e+05\n",
    "    a5 = 5.489012058410810e+06\n",
    "    a6 = -6.200450556437300e+07\n",
    "    a7 = 4.979025210941446e+08\n",
    "    a8 = -2.944052524805940e+09\n",
    "    a9 = 1.313471799267269e+10\n",
    "    a10 =  -4.496207781023888e+10\n",
    "    a11 = 1.193695126040622e+11\n",
    "    a12 = -2.471611537296881e+11\n",
    "    a13 = 3.993607086682483e+11\n",
    "    a14 = -5.011735695283248e+11\n",
    "    a15 = 4.830387215923971e+11\n",
    "    a16 = -3.504660079815023e+11\n",
    "    a17 = 1.850688914603302e+11\n",
    "    a18 = -6.710047956466081e+10\n",
    "    a19 = 1.493032808692053e+10\n",
    "    a20 = -1.536610516317293e+09\n",
    "    \n",
    "    u_eq = (((((((((((((((((((a20*sto+a19)*sto+a18)*sto+a17)*sto+a16)*sto+a15)*sto+a14)*sto+a13)*sto+a12)*sto+a11)*sto+a10)*sto+a9)*sto+a8)*sto+a7)*sto+a6)*sto+a5)*sto+a4)*sto+a3)*sto+a2)*sto+a1)*sto+a0\n",
    "    return u_eq\n",
    "    \n",
    "def Pos_OCP_10(sto):\n",
    "    a0 = 5.298113767360714\n",
    "    a1 = -2.233439122750700\n",
    "    a2 = -28.686773811606585\n",
    "    a3 = 4.137722851474553e+02\n",
    "    a4 = -3.206971022531465e+03\n",
    "    a5 = 1.419463632791669e+04\n",
    "    a6 = -3.727397394798015e+04\n",
    "    a7 = 5.920670379229305e+04\n",
    "    a8 = -5.584954194890567e+04\n",
    "    a9 = 2.879351402952694e+04\n",
    "    a10 =  -6.249270457540159e+03\n",
    "\n",
    "    u_eq = (((((((((a10*sto+a9)*sto+a8)*sto+a7)*sto+a6)*sto+a5)*sto+a4)*sto+a3)*sto+a2)*sto+a1)*sto+a0\n",
    "    return u_eq    \n",
    "\n",
    "\n",
    "# Exchange-current density [A.m-2] \n",
    "def Pos_io(c_e, c_s_surf, T):\n",
    "    #cs_max = Parameter(\"Maximum concentration in positive electrode [mol.m-3]\")\n",
    "    cs_max = 49600 # [mol.m-3]\n",
    "    return 1.076 * 7 * (c_e/1000)** 0.5 * (c_s_surf/cs_max)** 0.5 * (1-c_s_surf/cs_max)** 0.5\n",
    "\n",
    "def Pos_io_asym(c_e, c_s_surf, T, T2):\n",
    "    cs_max = 49600.0 # [mol.m-3]\n",
    "    x = c_s_surf/cs_max;\n",
    "    a0 = 0.303490440978371;\n",
    "    a1 = 1.271944700013477;\n",
    "    a2 = 4.420894220185683e+02;\n",
    "    a3 = -5.783762746199664e+03;\n",
    "    a4 = 3.822682327855755e+04;\n",
    "    a5 = -1.416477460103355e+05;\n",
    "    a6 = 3.113802647858406e+05;\n",
    "    a7 = -4.169011915077865e+05;\n",
    "    a8 = 3.347705415406199e+05;\n",
    "    a9 = -1.485221335897379e+05;\n",
    "    a10 = 2.803425068966447e+04;\n",
    "    P = (((((((((a10*x+a9)*x+a8)*x+a7)*x+a6)*x+a5)*x+a4)*x+a3)*x+a2)*x+a1)*x+a0;\n",
    "    ce_atrest = 1200;\n",
    "    return P * (c_e/ce_atrest)**0.5;      \n",
    "    \n",
    "# Update parameters\n",
    "parameter_values.update({\"Positive electrode conductivity [S.m-1]\": Pos_AM_conductivity})\n",
    "parameter_values.update({\"Positive electrode diffusivity [m2.s-1]\": Pos_diffusivity_20})\n",
    "parameter_values.update({\"Positive electrode OCP [V]\": Pos_OCP_10})\n",
    "parameter_values.update({\"Positive electrode exchange-current density [A.m-2]\": Pos_io_asym})"
   ]
  },
  {
   "cell_type": "code",
   "execution_count": 18,
   "id": "02c9ca82",
   "metadata": {},
   "outputs": [
    {
     "data": {
      "image/png": "[encoded data removed]",
      "text/plain": [
       "<Figure size 640x480 with 1 Axes>"
      ]
     },
     "metadata": {},
     "output_type": "display_data"
    },
    {
     "data": {
      "image/png": "[encoded data removed]",
      "text/plain": [
       "<Figure size 640x480 with 1 Axes>"
      ]
     },
     "metadata": {},
     "output_type": "display_data"
    },
    {
     "data": {
      "image/png": "[encoded data removed]",
      "text/plain": [
       "<Figure size 640x480 with 1 Axes>"
      ]
     },
     "metadata": {},
     "output_type": "display_data"
    },
    {
     "data": {
      "image/png": "[encoded data removed]",
      "text/plain": [
       "<Figure size 640x480 with 1 Axes>"
      ]
     },
     "metadata": {},
     "output_type": "display_data"
    },
    {
     "data": {
      "image/png": "[encoded data removed]",
      "text/plain": [
       "<Figure size 640x480 with 1 Axes>"
      ]
     },
     "metadata": {},
     "output_type": "display_data"
    }
   ],
   "source": [
    "xs = np.linspace(0, 1, 1000)\n",
    "us = np.linspace(0, 1, 1000)\n",
    "k=-1\n",
    "for x in xs:\n",
    "    k=k+1\n",
    "    us[k] = Pos_OCP_10(x)\n",
    "\n",
    "plt.plot(xs, us)\n",
    "plt.show()\n",
    "\n",
    "k=-1\n",
    "for x in xs:\n",
    "    k=k+1\n",
    "    us[k] = Pos_OCP_10(x)-Pos_OCP_bis(x)\n",
    "\n",
    "plt.plot(xs, us)\n",
    "plt.show()\n",
    "\n",
    "\n",
    "k=-1\n",
    "for x in xs:\n",
    "    k=k+1\n",
    "    us[k] = Pos_OCP_20(x)\n",
    "\n",
    "plt.plot(xs, us)\n",
    "plt.show()\n",
    "\n",
    "k=-1\n",
    "for x in xs:\n",
    "    k=k+1\n",
    "    us[k] = Pos_OCP_bis(x)\n",
    "\n",
    "plt.plot(xs, us)\n",
    "plt.show()\n",
    "\n",
    "k=-1\n",
    "for x in xs:\n",
    "    k=k+1\n",
    "    us[k] = Pos_diffusivity_20(x,x) - Pos_diffusivity(x,x)\n",
    "\n",
    "plt.plot(xs, us)\n",
    "plt.show()"
   ]
  },
  {
   "cell_type": "code",
   "execution_count": null,
   "id": "91688992",
   "metadata": {},
   "outputs": [],
   "source": []
  },
  {
   "cell_type": "markdown",
   "id": "95514814",
   "metadata": {},
   "source": [
    "#### Electrolyte"
   ]
  },
  {
   "cell_type": "code",
   "execution_count": 19,
   "id": "6a796149",
   "metadata": {},
   "outputs": [],
   "source": [
    "# Transference number\n",
    "Ele_tplus = 0.0 # 0.46\n",
    "def Ele_f_tplus(c_e,foo1):\n",
    "    a0 = 0.440683\n",
    "    a1 = 2.125497e-5\n",
    "    a2 = -2.2667919e-09\n",
    "    return (a2*c_e+a1)*c_e+a0\n",
    "\n",
    "# 1+activity coefficient (i.e., 1 + dlnf/dlnc)\n",
    "Ac_plus_one = 0.0 # 3.87 \n",
    "def Ele_f_Acplusone(c_e,foo1):\n",
    "    a0 = 0.806612\n",
    "    a1 = -1.997683e-04\n",
    "    a2 = 1.5985312e-06\n",
    "    Ac = (a2*c_e+a1)*c_e+a0\n",
    "    return Ac+1;\n",
    "\n",
    "# Conducitvity [S.m-1]\n",
    "Ele_conductivity = 1.0\n",
    "def Ele_f_conductivity(c_e, foo1):\n",
    "    a0 = 0.0\n",
    "    a1 = 0.002184643837703\n",
    "    a2 = -1.577170931848559e-06\n",
    "    a3 = 4.120782790092705e-10\n",
    "    a4 = -4.443882945301638e-14\n",
    "    a5 = 1.558277114134419e-18\n",
    "    Ke = ((((a5*c_e+a4)*c_e+a3)*c_e+a2)*c_e+a1)*c_e+a0;\n",
    "    Ke2 = a0 + a1*c_e + a2*(c_e**2) + a3*(c_e**3) + a4*(c_e**4) + a5*(c_e**5)\n",
    "    return Ke\n",
    "\n",
    "# Diffusivity [m2.s-1]\n",
    "Ele_diffusivity = 1.0e-10 \n",
    "def Ele_f_diffusivity(c_e, foo1):\n",
    "    a0 = 3.409857e-10\n",
    "    a1 = -2.553199e-13\n",
    "    a2 = 9.229720e-17\n",
    "    a3 = -2.249695e-20\n",
    "    a4 = 3.510337e-24\n",
    "    a5 = -2.369022e-28\n",
    "    return 1.0*(a0 + a1*c_e + a2*(c_e**2) + a3*(c_e**3) + a4*(c_e**4) + a5*(c_e**5))\n",
    "\n",
    "# Update parameters\n",
    "parameter_values.update({\"Cation transference number\": Ele_f_tplus})\n",
    "parameter_values.update({\"Thermodynamic factor\": Ele_f_Acplusone})\n",
    "parameter_values.update({\"Electrolyte conductivity [S.m-1]\": Ele_f_conductivity})\n",
    "parameter_values.update({\"Electrolyte diffusivity [m2.s-1]\": Ele_f_diffusivity})\n"
   ]
  },
  {
   "cell_type": "code",
   "execution_count": 20,
   "id": "cbb952fe",
   "metadata": {},
   "outputs": [
    {
     "data": {
      "image/png": "[encoded data removed]",
      "text/plain": [
       "<Figure size 640x480 with 1 Axes>"
      ]
     },
     "metadata": {},
     "output_type": "display_data"
    },
    {
     "data": {
      "image/png": "[encoded data removed]",
      "text/plain": [
       "<Figure size 640x480 with 1 Axes>"
      ]
     },
     "metadata": {},
     "output_type": "display_data"
    }
   ],
   "source": [
    "ce = np.linspace(0, 4000, 1000)\n",
    "Ke = np.linspace(0, 1, 1000)\n",
    "Ac = np.linspace(0, 1, 1000)\n",
    "\n",
    "k=-1\n",
    "for c in ce:\n",
    "    k=k+1\n",
    "    Ke[k] = Ele_f_conductivity(c,c)\n",
    "    Ac[k] = Ele_f_Acplusone(c,c)-1\n",
    "\n",
    "\n",
    "plt.plot(ce, Ke)\n",
    "plt.show()\n",
    "plt.plot(ce, Ac)\n",
    "plt.show()"
   ]
  },
  {
   "cell_type": "markdown",
   "id": "dcdc4fad",
   "metadata": {},
   "source": [
    "### Initial conditions"
   ]
  },
  {
   "cell_type": "code",
   "execution_count": 21,
   "id": "6a83679d",
   "metadata": {},
   "outputs": [],
   "source": [
    "# Initial concentration [mol.m-3]\n",
    "Sep_c_at_rest = 1200.0\n",
    "Neg_C_ini = 0.1*Neg_Csmax\n",
    "Pos_C_ini = 0.9*Pos_Csmax\n",
    "# SOC range\n",
    "Neg_SOCrange = 1.0-0.0\n",
    "Pos_SOCrange = 1.0-0.4\n",
    "\n",
    "# Update parameters\n",
    "parameter_values.update({\"Maximum concentration in negative electrode [mol.m-3]\": Neg_Csmax})\n",
    "parameter_values.update({\"Maximum concentration in positive electrode [mol.m-3]\": Pos_Csmax})\n",
    "# parameter_values.update({\"Typical electrolyte concentration [mol.m-3]\": Sep_c_at_rest})\n",
    "\n",
    "parameter_values.update({\"Initial concentration in negative electrode [mol.m-3]\": Neg_C_ini})\n",
    "parameter_values.update({\"Initial concentration in positive electrode [mol.m-3]\": Pos_C_ini})\n",
    "parameter_values.update({\"Initial concentration in electrolyte [mol.m-3]\": Sep_c_at_rest})"
   ]
  },
  {
   "cell_type": "markdown",
   "id": "8a58fe44",
   "metadata": {},
   "source": [
    "### Applied current and cut-off voltage"
   ]
  },
  {
   "cell_type": "code",
   "execution_count": 22,
   "id": "b397b65f",
   "metadata": {},
   "outputs": [],
   "source": [
    "# C-rate\n",
    "Crate = 1.0/20\n",
    "low_cutoff = 0.5 # [V]\n",
    "high_cutoff = 5.0 # [V]\n",
    "\n",
    "# Active material volume [m3]\n",
    "Neg_volume = Neg_electrode_thickness * Electrode_height * Electrode_width * Neg_electrode_AM\n",
    "Pos_volume = Pos_electrode_thickness * Electrode_height * Electrode_width * Pos_electrode_AM\n",
    "# Faraday constant [C.mol-1]\n",
    "Fday = 96485.332\n",
    "\n",
    "# Capacity [C]\n",
    "Neg_theoritical_capacity = Neg_volume * Neg_Csmax * Fday\n",
    "Pos_theoritical_capacity = Pos_volume * Pos_Csmax * Fday\n",
    "Neg_pratical_capacity = Neg_theoritical_capacity * Neg_SOCrange\n",
    "Pos_pratical_capacity = Pos_theoritical_capacity * Pos_SOCrange\n",
    "Cell_pratical_capacity = np.min([Neg_pratical_capacity,Pos_pratical_capacity])\n",
    "Cell_NP_ratio = Neg_pratical_capacity/Pos_pratical_capacity\n",
    "Nominal_cell_capacity_Ah = Cell_pratical_capacity*3600\n",
    "\n",
    "# Applied current\n",
    "t_charge = 1/Crate * 3600 # [s]\n",
    "current_1C = Cell_pratical_capacity/3600 # [A]\n",
    "Applied_current = -current_1C * Crate # [A]\n",
    "\n",
    "# Update parameters\n",
    "#parameter_values.update({\"Typical current [A]\": Applied_current})\n",
    "parameter_values.update({\"Current function [A]\": Applied_current})\n",
    "parameter_values.update({\"Nominal cell capacity [A.h]\": Nominal_cell_capacity_Ah})\n",
    "parameter_values.update({\"Lower voltage cut-off [V]\": low_cutoff})\n",
    "parameter_values.update({\"Upper voltage cut-off [V]\": high_cutoff})"
   ]
  },
  {
   "cell_type": "code",
   "execution_count": 23,
   "id": "5d879e3b",
   "metadata": {},
   "outputs": [
    {
     "data": {
      "text/plain": [
       "-1.3623653375411536e-08"
      ]
     },
     "execution_count": 23,
     "metadata": {},
     "output_type": "execute_result"
    }
   ],
   "source": [
    "Applied_current"
   ]
  },
  {
   "cell_type": "markdown",
   "id": "f5e7916c",
   "metadata": {},
   "source": [
    "### List parameters"
   ]
  },
  {
   "cell_type": "code",
   "execution_count": 24,
   "id": "7e381cd5",
   "metadata": {},
   "outputs": [
    {
     "name": "stdout",
     "output_type": "stream",
     "text": [
      "PARAMETER                                                                                   VALUE\n",
      "-------------------------------------------------------------------------------------------------\n",
      "Ideal gas constant [J.K-1.mol-1]                                                      8.314462618\n",
      "Faraday constant [C.mol-1]                                                            96485.33212\n",
      "Boltzmann constant [J.K-1]                                                           1.380649e-23\n",
      "Electron charge [C]                                                               1.602176634e-19\n",
      "Ratio of lithium moles to SEI moles                                                           2.0\n",
      "Inner SEI reaction proportion                                                                 0.5\n",
      "Inner SEI partial molar volume [m3.mol-1]                                               9.585e-05\n",
      "Outer SEI partial molar volume [m3.mol-1]                                               9.585e-05\n",
      "SEI reaction exchange current density [A.m-2]                                             1.5e-07\n",
      "SEI resistivity [Ohm.m]                                                                  200000.0\n",
      "Outer SEI solvent diffusivity [m2.s-1]                                       2.5000000000000002e-22\n",
      "Bulk solvent concentration [mol.m-3]                                                       2636.0\n",
      "Inner SEI open-circuit potential [V]                                                          0.1\n",
      "Outer SEI open-circuit potential [V]                                                          0.8\n",
      "Inner SEI electron conductivity [S.m-1]                                                  8.95e-14\n",
      "Inner SEI lithium interstitial diffusivity [m2.s-1]                                         1e-20\n",
      "Lithium interstitial reference concentration [mol.m-3]                                       15.0\n",
      "Initial inner SEI thickness [m]                                                           2.5e-09\n",
      "Initial outer SEI thickness [m]                                                           2.5e-09\n",
      "EC initial concentration in electrolyte [mol.m-3]                                          4541.0\n",
      "EC diffusivity [m2.s-1]                                                                     2e-18\n",
      "SEI kinetic rate constant [m.s-1]                                                           1e-12\n",
      "SEI open-circuit potential [V]                                                                0.4\n",
      "SEI growth activation energy [J.mol-1]                                                        0.0\n",
      "Negative electrode reaction-driven LAM factor [m3.mol-1]                                      0.0\n",
      "Positive electrode reaction-driven LAM factor [m3.mol-1]                                      0.0\n",
      "Negative current collector thickness [m]                                                  2.5e-05\n",
      "Negative electrode thickness [m]                                                       6.9745e-05\n",
      "Separator thickness [m]                                                                2.0202e-05\n",
      "Positive electrode thickness [m]                                                       6.9745e-05\n",
      "Positive current collector thickness [m]                                                  2.5e-05\n",
      "Electrode height [m]                                                                       0.0001\n",
      "Electrode width [m]                                                                        0.0001\n",
      "Cell cooling surface area [m2]                                                            0.00531\n",
      "Cell volume [m3]                                                             2.0969200000000007e-12\n",
      "Cell thermal expansion coefficient [m.K-1]                                                1.1e-06\n",
      "Negative current collector conductivity [S.m-1]                                        58411000.0\n",
      "Positive current collector conductivity [S.m-1]                                        36914000.0\n",
      "Negative current collector density [kg.m-3]                                                8960.0\n",
      "Positive current collector density [kg.m-3]                                                2700.0\n",
      "Negative current collector specific heat capacity [J.kg-1.K-1]                              385.0\n",
      "Positive current collector specific heat capacity [J.kg-1.K-1]                              897.0\n",
      "Negative current collector thermal conductivity [W.m-1.K-1]                                 401.0\n",
      "Positive current collector thermal conductivity [W.m-1.K-1]                                 237.0\n",
      "Nominal cell capacity [A.h]                                                    3.5312509549066693\n",
      "Current function [A]                                                         -1.3623653375411536e-08\n",
      "Contact resistance [Ohm]                                                                        0\n",
      "Negative electrode conductivity [S.m-1]                                                       100\n",
      "Maximum concentration in negative electrode [mol.m-3]                                     28000.0\n",
      "Negative electrode diffusivity [m2.s-1]                                                     3e-14\n",
      "Negative electrode OCP [V]                                                   <function Neg_OCP_50 at 0x000001907E21D440>\n",
      "Negative electrode porosity                                                                 0.404\n",
      "Negative electrode active material volume fraction                                          0.596\n",
      "Negative particle radius [m]                                                 4.1141279337321665e-06\n",
      "Negative electrode Bruggeman coefficient (electrolyte)                                       1.61\n",
      "Negative electrode Bruggeman coefficient (electrode)                                         3.24\n",
      "Negative electrode charge transfer coefficient                                                0.5\n",
      "Negative electrode double-layer capacity [F.m-2]                                              0.0\n",
      "Negative electrode exchange-current density [A.m-2]                          <function Neg_io at 0x000001907E21D580>\n",
      "Negative electrode density [kg.m-3]                                                        1657.0\n",
      "Negative electrode specific heat capacity [J.kg-1.K-1]                                      700.0\n",
      "Negative electrode thermal conductivity [W.m-1.K-1]                                           1.7\n",
      "Negative electrode OCP entropic change [V.K-1]                                                0.0\n",
      "Positive electrode conductivity [S.m-1]                                                        10\n",
      "Maximum concentration in positive electrode [mol.m-3]                                     49600.0\n",
      "Positive electrode diffusivity [m2.s-1]                                      <function Pos_diffusivity_20 at 0x000001907E2E1E40>\n",
      "Positive electrode OCP [V]                                                   <function Pos_OCP_10 at 0x000001907E317880>\n",
      "Positive electrode porosity                                                                0.5102\n",
      "Positive electrode active material volume fraction                                         0.4898\n",
      "Positive particle radius [m]                                                 3.7949380165289256e-06\n",
      "Positive electrode Bruggeman coefficient (electrolyte)                                       1.61\n",
      "Positive electrode Bruggeman coefficient (electrode)                                         3.61\n",
      "Positive electrode charge transfer coefficient                                                0.5\n",
      "Positive electrode double-layer capacity [F.m-2]                                              0.0\n",
      "Positive electrode exchange-current density [A.m-2]                          <function Pos_io_asym at 0x000001907E317600>\n",
      "Positive electrode density [kg.m-3]                                                        3262.0\n",
      "Positive electrode specific heat capacity [J.kg-1.K-1]                                      700.0\n",
      "Positive electrode thermal conductivity [W.m-1.K-1]                                           2.1\n",
      "Positive electrode OCP entropic change [V.K-1]                                                0.0\n",
      "Separator porosity                                                                            1.0\n",
      "Separator Bruggeman coefficient (electrolyte)                                                 1.0\n",
      "Separator density [kg.m-3]                                                                  397.0\n",
      "Separator specific heat capacity [J.kg-1.K-1]                                               700.0\n",
      "Separator thermal conductivity [W.m-1.K-1]                                                   0.16\n",
      "Initial concentration in electrolyte [mol.m-3]                                             1200.0\n",
      "Cation transference number                                                   <function Ele_f_tplus at 0x000001900002FBA0>\n",
      "Thermodynamic factor                                                         <function Ele_f_Acplusone at 0x000001900002FD80>\n",
      "Electrolyte diffusivity [m2.s-1]                                             <function Ele_f_diffusivity at 0x000001900002F380>\n",
      "Electrolyte conductivity [S.m-1]                                             <function Ele_f_conductivity at 0x000001900002F9C0>\n",
      "Reference temperature [K]                                                                  298.15\n",
      "Total heat transfer coefficient [W.m-2.K-1]                                                  10.0\n",
      "Ambient temperature [K]                                                                    298.15\n",
      "Number of electrodes connected in parallel to make a cell                                     1.0\n",
      "Number of cells connected in series to make a battery                                         1.0\n",
      "Lower voltage cut-off [V]                                                                     0.5\n",
      "Upper voltage cut-off [V]                                                                     5.0\n",
      "Open-circuit voltage at 0% SOC [V]                                                            2.5\n",
      "Open-circuit voltage at 100% SOC [V]                                                          4.2\n",
      "Initial concentration in negative electrode [mol.m-3]                                      2800.0\n",
      "Initial concentration in positive electrode [mol.m-3]                                     44640.0\n",
      "Initial temperature [K]                                                                    298.15\n",
      "citations                                                                            ['Chen2020']\n"
     ]
    }
   ],
   "source": [
    "format_str = '{:<75}  {:>20}'\n",
    "print(format_str.format('PARAMETER', 'VALUE'))\n",
    "print(\"-\"*97)\n",
    "for key, value in parameter_values.items():\n",
    "    try:\n",
    "        print(format_str.format(key, value))\n",
    "    except TypeError:\n",
    "        print(format_str.format(key, value.__str__()))"
   ]
  },
  {
   "cell_type": "markdown",
   "id": "32eb2fb9",
   "metadata": {},
   "source": [
    "* You can explore a variety of parameters, listed under < parameter_values >.\n",
    "* You can search using keyword < parameter_values >.variables.search(\"electrolyte\")."
   ]
  },
  {
   "cell_type": "code",
   "execution_count": 25,
   "id": "ee34a619",
   "metadata": {},
   "outputs": [],
   "source": [
    "#parameter_values"
   ]
  },
  {
   "cell_type": "code",
   "execution_count": 26,
   "id": "146cf48a",
   "metadata": {},
   "outputs": [
    {
     "data": {
      "text/plain": [
       "<function __main__.Neg_OCP_50(sto)>"
      ]
     },
     "execution_count": 26,
     "metadata": {},
     "output_type": "execute_result"
    }
   ],
   "source": [
    "parameter_values[\"Negative electrode OCP [V]\"]"
   ]
  },
  {
   "cell_type": "code",
   "execution_count": 27,
   "id": "92fe03f1",
   "metadata": {},
   "outputs": [],
   "source": [
    "# parameter_values.search(\"utilisation\")"
   ]
  },
  {
   "cell_type": "markdown",
   "id": "ecc828de",
   "metadata": {},
   "source": [
    "### Applied loading"
   ]
  },
  {
   "cell_type": "markdown",
   "id": "72c6246f",
   "metadata": {},
   "source": [
    "experiment = pybamm.Experiment(\n",
    "    [\n",
    "        (\"Charge at 0.5 A until 4.1 V\",\n",
    "        \"Hold at 4.1 V until 50 mA\")\n",
    "    ]\n",
    ")"
   ]
  },
  {
   "cell_type": "code",
   "execution_count": 28,
   "id": "d0fcc1ce",
   "metadata": {},
   "outputs": [],
   "source": [
    "experiment_cycling = pybamm.Experiment(\n",
    "    [\n",
    "        (\"Discharge at C/10 for 10 hours or until 3.3 V\",\n",
    "        \"Rest for 1 hour\",\n",
    "        \"Charge at 1 A until 4.1 V\",\n",
    "        \"Hold at 4.1 V until 50 mA\",\n",
    "        \"Rest for 1 hour\"),\n",
    "    ] * 1\n",
    ")\n",
    "\n",
    "experiment_CC_CV = pybamm.Experiment(\n",
    "    [\n",
    "        (\"Charge at 0.352 A until 4.2 V\",\n",
    "        \"Hold at 4.2 V until 50 mA\"),\n",
    "    ] * 1\n",
    ")\n",
    "\n",
    "experiment_CC = pybamm.Experiment(\n",
    "    [\n",
    "        (\"Charge at 0.352 A until 4.2 V\"),\n",
    "    ] * 1\n",
    ")"
   ]
  },
  {
   "cell_type": "markdown",
   "id": "d6e6ac06",
   "metadata": {},
   "source": [
    "## Solver options"
   ]
  },
  {
   "cell_type": "markdown",
   "id": "885be89e",
   "metadata": {},
   "source": [
    "Documentation: https://pybamm.readthedocs.io/en/latest/source/solvers/index.html"
   ]
  },
  {
   "cell_type": "code",
   "execution_count": 29,
   "id": "d28283f2",
   "metadata": {},
   "outputs": [],
   "source": [
    "solver = pybamm.CasadiSolver(atol=1e-9, rtol=1e-9, mode=\"fast\",dt_max=0.0001,max_step_decrease_count=100)\n",
    "\n",
    "#solver2 = pybamm.AlgebraicSolver(method='lm', tol=1e-06, extra_options=None)\n"
   ]
  },
  {
   "cell_type": "markdown",
   "id": "3e6939ea",
   "metadata": {},
   "source": [
    "## Mesh options"
   ]
  },
  {
   "cell_type": "code",
   "execution_count": 30,
   "id": "47a1fd3a",
   "metadata": {},
   "outputs": [],
   "source": [
    "var_pts = {\n",
    "    \"x_n\": 150,  # negative electrode\n",
    "    \"x_s\": 30,  # separator \n",
    "    \"x_p\": 150,  # positive electrode\n",
    "    \"r_n\": 100,  # negative particle\n",
    "    \"r_p\": 100,  # positive particle\n",
    "}\n",
    "\n",
    "var_pts = {\n",
    "    \"x_n\": 50,  # negative electrode\n",
    "    \"x_s\": 10,  # separator \n",
    "    \"x_p\": 50,  # positive electrode\n",
    "    \"r_n\": 15,  # negative particle\n",
    "    \"r_p\": 15,  # positive particle\n",
    "}\n",
    "\n",
    "var_pts = {\n",
    "    \"x_n\": 145,  # negative electrode\n",
    "    \"x_s\": 41,  # separator \n",
    "    \"x_p\": 145,  # positive electrode\n",
    "    \"r_n\": 15,  # negative particle\n",
    "    \"r_p\": 15,  # positive particle\n",
    "}\n",
    "\n",
    "var_pts = {\n",
    "    \"x_n\": 145,  # negative electrode\n",
    "    \"x_s\": 41,  # separator \n",
    "    \"x_p\": 145,  # positive electrode\n",
    "    \"r_n\": 80,  # negative particle\n",
    "    \"r_p\": 80,  # positive particle\n",
    "}"
   ]
  },
  {
   "cell_type": "markdown",
   "id": "bf685822",
   "metadata": {},
   "source": [
    "## Solve model"
   ]
  },
  {
   "cell_type": "code",
   "execution_count": 31,
   "id": "d27f6102",
   "metadata": {},
   "outputs": [],
   "source": [
    "#sim = pybamm.Simulation(model,parameter_values=parameter_values,experiment=experiment_CC_CV,solver=solver,var_pts=var_pts)\n",
    "sim = pybamm.Simulation(model,parameter_values=parameter_values,solver=solver,var_pts=var_pts)"
   ]
  },
  {
   "cell_type": "code",
   "execution_count": 32,
   "id": "c1e259bd",
   "metadata": {},
   "outputs": [
    {
     "data": {
      "text/plain": [
       "<pybamm.solvers.solution.Solution at 0x1907e3acfd0>"
      ]
     },
     "execution_count": 32,
     "metadata": {},
     "output_type": "execute_result"
    }
   ],
   "source": [
    "#sim.solve()\n",
    "#t_eval = np.linspace(0, 50, 50)\n",
    "t_eval = np.linspace(0, 600, 600)\n",
    "\n",
    "\n",
    "sim.solve(t_eval)"
   ]
  },
  {
   "cell_type": "markdown",
   "id": "9d909858",
   "metadata": {},
   "source": [
    "# Post-processing"
   ]
  },
  {
   "cell_type": "markdown",
   "id": "13364be7",
   "metadata": {},
   "source": [
    "# There are two variables for most quantities. This is because PyBaMM utilises both _dimensionless_ and _dimensional_ variables for these quantities.  \n",
    "* You can explore a variety of outputs, listed under < model >.variable_names.\n",
    "* You can search using keyword < model >.variables.search(\"electrolyte\")."
   ]
  },
  {
   "cell_type": "markdown",
   "id": "17dfaaed",
   "metadata": {},
   "source": [
    "## Potential and concentration along cell thickness"
   ]
  },
  {
   "cell_type": "code",
   "execution_count": 33,
   "id": "27ebc4f8",
   "metadata": {},
   "outputs": [
    {
     "data": {
      "application/vnd.jupyter.widget-view+json": {
       "model_id": "9d55506ac1aa42c09b633e6a9b1898f6",
       "version_major": 2,
       "version_minor": 0
      },
      "text/plain": [
       "interactive(children=(FloatSlider(value=0.0, description='t', max=600.0, step=6.0), Output()), _dom_classes=('…"
      ]
     },
     "metadata": {},
     "output_type": "display_data"
    },
    {
     "data": {
      "text/plain": [
       "<pybamm.plotting.quick_plot.QuickPlot at 0x1907e45e690>"
      ]
     },
     "execution_count": 33,
     "metadata": {},
     "output_type": "execute_result"
    }
   ],
   "source": [
    "output_variables = [\"Negative electrode potential [V]\", \"Electrolyte potential [V]\",\"Positive electrode potential [V]\",\"R-averaged negative particle concentration [mol.m-3]\", \"Electrolyte concentration [mol.m-3]\",\"R-averaged positive particle concentration [mol.m-3]\"]\n",
    "sim.plot(output_variables=output_variables)"
   ]
  },
  {
   "cell_type": "markdown",
   "id": "22064ae9",
   "metadata": {},
   "source": [
    "## Concentration and potential averaged quantitied"
   ]
  },
  {
   "cell_type": "code",
   "execution_count": 35,
   "id": "9039cef4",
   "metadata": {},
   "outputs": [
    {
     "ename": "KeyError",
     "evalue": "\"'X-averaged electrolyte concentration' not found. Use the dimensional version 'X-averaged electrolyte concentration [Molar]' instead.\"",
     "output_type": "error",
     "traceback": [
      "\u001b[1;31m---------------------------------------------------------------------------\u001b[0m",
      "\u001b[1;31mKeyError\u001b[0m                                  Traceback (most recent call last)",
      "File \u001b[1;32m~\\AppData\\Roaming\\Python\\Python311\\site-packages\\pybamm\\util.py:59\u001b[0m, in \u001b[0;36mFuzzyDict.__getitem__\u001b[1;34m(self, key)\u001b[0m\n\u001b[0;32m     58\u001b[0m \u001b[38;5;28;01mtry\u001b[39;00m:\n\u001b[1;32m---> 59\u001b[0m     \u001b[38;5;28;01mreturn\u001b[39;00m \u001b[38;5;28msuper\u001b[39m()\u001b[38;5;241m.\u001b[39m\u001b[38;5;21m__getitem__\u001b[39m(key)\n\u001b[0;32m     60\u001b[0m \u001b[38;5;28;01mexcept\u001b[39;00m \u001b[38;5;167;01mKeyError\u001b[39;00m:\n",
      "\u001b[1;31mKeyError\u001b[0m: 'X-averaged electrolyte concentration'",
      "\nDuring handling of the above exception, another exception occurred:\n",
      "\u001b[1;31mKeyError\u001b[0m                                  Traceback (most recent call last)",
      "Cell \u001b[1;32mIn[35], line 1\u001b[0m\n\u001b[1;32m----> 1\u001b[0m sim\u001b[38;5;241m.\u001b[39mplot([[\u001b[38;5;124m\"\u001b[39m\u001b[38;5;124mX-averaged negative electrode potential [V]\u001b[39m\u001b[38;5;124m\"\u001b[39m, \u001b[38;5;124m\"\u001b[39m\u001b[38;5;124mX-averaged electrolyte potential [V]\u001b[39m\u001b[38;5;124m\"\u001b[39m, \u001b[38;5;124m\"\u001b[39m\u001b[38;5;124mX-averaged positive electrode potential [V]\u001b[39m\u001b[38;5;124m\"\u001b[39m],\u001b[38;5;124m\"\u001b[39m\u001b[38;5;124mX-averaged negative electrode potential [V]\u001b[39m\u001b[38;5;124m\"\u001b[39m, \u001b[38;5;124m\"\u001b[39m\u001b[38;5;124mX-averaged electrolyte potential [V]\u001b[39m\u001b[38;5;124m\"\u001b[39m, \u001b[38;5;124m\"\u001b[39m\u001b[38;5;124mX-averaged positive electrode potential [V]\u001b[39m\u001b[38;5;124m\"\u001b[39m,[\u001b[38;5;124m\"\u001b[39m\u001b[38;5;124mAverage negative particle concentration\u001b[39m\u001b[38;5;124m\"\u001b[39m,\u001b[38;5;124m\"\u001b[39m\u001b[38;5;124mX-averaged electrolyte concentration\u001b[39m\u001b[38;5;124m\"\u001b[39m,\u001b[38;5;124m\"\u001b[39m\u001b[38;5;124mAverage positive particle concentration\u001b[39m\u001b[38;5;124m\"\u001b[39m],\u001b[38;5;124m\"\u001b[39m\u001b[38;5;124mAverage negative particle concentration [mol.m-3]\u001b[39m\u001b[38;5;124m\"\u001b[39m,\u001b[38;5;124m\"\u001b[39m\u001b[38;5;124mX-averaged electrolyte concentration [mol.m-3]\u001b[39m\u001b[38;5;124m\"\u001b[39m,\u001b[38;5;124m\"\u001b[39m\u001b[38;5;124mAverage positive particle concentration [mol.m-3]\u001b[39m\u001b[38;5;124m\"\u001b[39m])\n",
      "File \u001b[1;32m~\\AppData\\Roaming\\Python\\Python311\\site-packages\\pybamm\\simulation.py:1054\u001b[0m, in \u001b[0;36mSimulation.plot\u001b[1;34m(self, output_variables, **kwargs)\u001b[0m\n\u001b[0;32m   1051\u001b[0m \u001b[38;5;28;01mif\u001b[39;00m output_variables \u001b[38;5;129;01mis\u001b[39;00m \u001b[38;5;28;01mNone\u001b[39;00m:\n\u001b[0;32m   1052\u001b[0m     output_variables \u001b[38;5;241m=\u001b[39m \u001b[38;5;28mself\u001b[39m\u001b[38;5;241m.\u001b[39m_output_variables\n\u001b[1;32m-> 1054\u001b[0m \u001b[38;5;28mself\u001b[39m\u001b[38;5;241m.\u001b[39mquick_plot \u001b[38;5;241m=\u001b[39m pybamm\u001b[38;5;241m.\u001b[39mdynamic_plot(\n\u001b[0;32m   1055\u001b[0m     \u001b[38;5;28mself\u001b[39m\u001b[38;5;241m.\u001b[39m_solution, output_variables\u001b[38;5;241m=\u001b[39moutput_variables, \u001b[38;5;241m*\u001b[39m\u001b[38;5;241m*\u001b[39mkwargs\n\u001b[0;32m   1056\u001b[0m )\n\u001b[0;32m   1058\u001b[0m \u001b[38;5;28;01mreturn\u001b[39;00m \u001b[38;5;28mself\u001b[39m\u001b[38;5;241m.\u001b[39mquick_plot\n",
      "File \u001b[1;32m~\\AppData\\Roaming\\Python\\Python311\\site-packages\\pybamm\\plotting\\dynamic_plot.py:20\u001b[0m, in \u001b[0;36mdynamic_plot\u001b[1;34m(*args, **kwargs)\u001b[0m\n\u001b[0;32m      8\u001b[0m \u001b[38;5;250m\u001b[39m\u001b[38;5;124;03m\"\"\"\u001b[39;00m\n\u001b[0;32m      9\u001b[0m \u001b[38;5;124;03mCreates a :class:`pybamm.QuickPlot` object (with arguments 'args' and keyword\u001b[39;00m\n\u001b[0;32m     10\u001b[0m \u001b[38;5;124;03marguments 'kwargs') and then calls :meth:`pybamm.QuickPlot.dynamic_plot`.\u001b[39;00m\n\u001b[1;32m   (...)\u001b[0m\n\u001b[0;32m     17\u001b[0m \u001b[38;5;124;03m    The 'QuickPlot' object that was created\u001b[39;00m\n\u001b[0;32m     18\u001b[0m \u001b[38;5;124;03m\"\"\"\u001b[39;00m\n\u001b[0;32m     19\u001b[0m kwargs_for_class \u001b[38;5;241m=\u001b[39m {k: v \u001b[38;5;28;01mfor\u001b[39;00m k, v \u001b[38;5;129;01min\u001b[39;00m kwargs\u001b[38;5;241m.\u001b[39mitems() \u001b[38;5;28;01mif\u001b[39;00m k \u001b[38;5;241m!=\u001b[39m \u001b[38;5;124m\"\u001b[39m\u001b[38;5;124mtesting\u001b[39m\u001b[38;5;124m\"\u001b[39m}\n\u001b[1;32m---> 20\u001b[0m plot \u001b[38;5;241m=\u001b[39m pybamm\u001b[38;5;241m.\u001b[39mQuickPlot(\u001b[38;5;241m*\u001b[39margs, \u001b[38;5;241m*\u001b[39m\u001b[38;5;241m*\u001b[39mkwargs_for_class)\n\u001b[0;32m     21\u001b[0m plot\u001b[38;5;241m.\u001b[39mdynamic_plot(kwargs\u001b[38;5;241m.\u001b[39mget(\u001b[38;5;124m\"\u001b[39m\u001b[38;5;124mtesting\u001b[39m\u001b[38;5;124m\"\u001b[39m, \u001b[38;5;28;01mFalse\u001b[39;00m))\n\u001b[0;32m     22\u001b[0m \u001b[38;5;28;01mreturn\u001b[39;00m plot\n",
      "File \u001b[1;32m~\\AppData\\Roaming\\Python\\Python311\\site-packages\\pybamm\\plotting\\quick_plot.py:233\u001b[0m, in \u001b[0;36mQuickPlot.__init__\u001b[1;34m(self, solutions, output_variables, labels, colors, linestyles, shading, figsize, n_rows, time_unit, spatial_unit, variable_limits)\u001b[0m\n\u001b[0;32m    228\u001b[0m         \u001b[38;5;28;01mexcept\u001b[39;00m \u001b[38;5;167;01mTypeError\u001b[39;00m:\n\u001b[0;32m    229\u001b[0m             \u001b[38;5;28;01mraise\u001b[39;00m \u001b[38;5;167;01mTypeError\u001b[39;00m(\n\u001b[0;32m    230\u001b[0m                 \u001b[38;5;124m\"\u001b[39m\u001b[38;5;124mvariable_limits must be \u001b[39m\u001b[38;5;124m'\u001b[39m\u001b[38;5;124mfixed\u001b[39m\u001b[38;5;124m'\u001b[39m\u001b[38;5;124m, \u001b[39m\u001b[38;5;124m'\u001b[39m\u001b[38;5;124mtight\u001b[39m\u001b[38;5;124m'\u001b[39m\u001b[38;5;124m, or a dict\u001b[39m\u001b[38;5;124m\"\u001b[39m\n\u001b[0;32m    231\u001b[0m             )\n\u001b[1;32m--> 233\u001b[0m \u001b[38;5;28mself\u001b[39m\u001b[38;5;241m.\u001b[39mset_output_variables(output_variable_tuples, solutions)\n\u001b[0;32m    234\u001b[0m \u001b[38;5;28mself\u001b[39m\u001b[38;5;241m.\u001b[39mreset_axis()\n",
      "File \u001b[1;32m~\\AppData\\Roaming\\Python\\Python311\\site-packages\\pybamm\\plotting\\quick_plot.py:283\u001b[0m, in \u001b[0;36mQuickPlot.set_output_variables\u001b[1;34m(self, output_variables, solutions)\u001b[0m\n\u001b[0;32m    281\u001b[0m variables[i] \u001b[38;5;241m=\u001b[39m []\n\u001b[0;32m    282\u001b[0m \u001b[38;5;28;01mfor\u001b[39;00m var \u001b[38;5;129;01min\u001b[39;00m variable_tuple:\n\u001b[1;32m--> 283\u001b[0m     sol \u001b[38;5;241m=\u001b[39m solution[var]\n\u001b[0;32m    284\u001b[0m     \u001b[38;5;66;03m# Check variable isn't all-nan\u001b[39;00m\n\u001b[0;32m    285\u001b[0m     \u001b[38;5;28;01mif\u001b[39;00m np\u001b[38;5;241m.\u001b[39mall(np\u001b[38;5;241m.\u001b[39misnan(sol\u001b[38;5;241m.\u001b[39mentries)):\n",
      "File \u001b[1;32m~\\AppData\\Roaming\\Python\\Python311\\site-packages\\pybamm\\solvers\\solution.py:542\u001b[0m, in \u001b[0;36mSolution.__getitem__\u001b[1;34m(self, key)\u001b[0m\n\u001b[0;32m    539\u001b[0m     \u001b[38;5;28;01mreturn\u001b[39;00m \u001b[38;5;28mself\u001b[39m\u001b[38;5;241m.\u001b[39m_variables[key]\n\u001b[0;32m    540\u001b[0m \u001b[38;5;28;01melse\u001b[39;00m:\n\u001b[0;32m    541\u001b[0m     \u001b[38;5;66;03m# otherwise create it, save it and then return it\u001b[39;00m\n\u001b[1;32m--> 542\u001b[0m     \u001b[38;5;28mself\u001b[39m\u001b[38;5;241m.\u001b[39mupdate(key)\n\u001b[0;32m    543\u001b[0m     \u001b[38;5;28;01mreturn\u001b[39;00m \u001b[38;5;28mself\u001b[39m\u001b[38;5;241m.\u001b[39m_variables[key]\n",
      "File \u001b[1;32m~\\AppData\\Roaming\\Python\\Python311\\site-packages\\pybamm\\solvers\\solution.py:473\u001b[0m, in \u001b[0;36mSolution.update\u001b[1;34m(self, variables)\u001b[0m\n\u001b[0;32m    471\u001b[0m cumtrapz_ic \u001b[38;5;241m=\u001b[39m \u001b[38;5;28;01mNone\u001b[39;00m\n\u001b[0;32m    472\u001b[0m pybamm\u001b[38;5;241m.\u001b[39mlogger\u001b[38;5;241m.\u001b[39mdebug(\u001b[38;5;124mf\u001b[39m\u001b[38;5;124m\"\u001b[39m\u001b[38;5;124mPost-processing \u001b[39m\u001b[38;5;132;01m{\u001b[39;00mkey\u001b[38;5;132;01m}\u001b[39;00m\u001b[38;5;124m\"\u001b[39m)\n\u001b[1;32m--> 473\u001b[0m vars_pybamm \u001b[38;5;241m=\u001b[39m [model\u001b[38;5;241m.\u001b[39mvariables_and_events[key] \u001b[38;5;28;01mfor\u001b[39;00m model \u001b[38;5;129;01min\u001b[39;00m \u001b[38;5;28mself\u001b[39m\u001b[38;5;241m.\u001b[39mall_models]\n\u001b[0;32m    475\u001b[0m \u001b[38;5;66;03m# Iterate through all models, some may be in the list several times and\u001b[39;00m\n\u001b[0;32m    476\u001b[0m \u001b[38;5;66;03m# therefore only get set up once\u001b[39;00m\n\u001b[0;32m    477\u001b[0m vars_casadi \u001b[38;5;241m=\u001b[39m []\n",
      "File \u001b[1;32m~\\AppData\\Roaming\\Python\\Python311\\site-packages\\pybamm\\solvers\\solution.py:473\u001b[0m, in \u001b[0;36m<listcomp>\u001b[1;34m(.0)\u001b[0m\n\u001b[0;32m    471\u001b[0m cumtrapz_ic \u001b[38;5;241m=\u001b[39m \u001b[38;5;28;01mNone\u001b[39;00m\n\u001b[0;32m    472\u001b[0m pybamm\u001b[38;5;241m.\u001b[39mlogger\u001b[38;5;241m.\u001b[39mdebug(\u001b[38;5;124mf\u001b[39m\u001b[38;5;124m\"\u001b[39m\u001b[38;5;124mPost-processing \u001b[39m\u001b[38;5;132;01m{\u001b[39;00mkey\u001b[38;5;132;01m}\u001b[39;00m\u001b[38;5;124m\"\u001b[39m)\n\u001b[1;32m--> 473\u001b[0m vars_pybamm \u001b[38;5;241m=\u001b[39m [model\u001b[38;5;241m.\u001b[39mvariables_and_events[key] \u001b[38;5;28;01mfor\u001b[39;00m model \u001b[38;5;129;01min\u001b[39;00m \u001b[38;5;28mself\u001b[39m\u001b[38;5;241m.\u001b[39mall_models]\n\u001b[0;32m    475\u001b[0m \u001b[38;5;66;03m# Iterate through all models, some may be in the list several times and\u001b[39;00m\n\u001b[0;32m    476\u001b[0m \u001b[38;5;66;03m# therefore only get set up once\u001b[39;00m\n\u001b[0;32m    477\u001b[0m vars_casadi \u001b[38;5;241m=\u001b[39m []\n",
      "File \u001b[1;32m~\\AppData\\Roaming\\Python\\Python311\\site-packages\\pybamm\\util.py:92\u001b[0m, in \u001b[0;36mFuzzyDict.__getitem__\u001b[1;34m(self, key)\u001b[0m\n\u001b[0;32m     90\u001b[0m \u001b[38;5;28;01mfor\u001b[39;00m k \u001b[38;5;129;01min\u001b[39;00m best_matches:\n\u001b[0;32m     91\u001b[0m     \u001b[38;5;28;01mif\u001b[39;00m key \u001b[38;5;129;01min\u001b[39;00m k \u001b[38;5;129;01mand\u001b[39;00m k\u001b[38;5;241m.\u001b[39mendswith(\u001b[38;5;124m\"\u001b[39m\u001b[38;5;124m]\u001b[39m\u001b[38;5;124m\"\u001b[39m):\n\u001b[1;32m---> 92\u001b[0m         \u001b[38;5;28;01mraise\u001b[39;00m \u001b[38;5;167;01mKeyError\u001b[39;00m(\n\u001b[0;32m     93\u001b[0m             \u001b[38;5;124mf\u001b[39m\u001b[38;5;124m\"\u001b[39m\u001b[38;5;124m'\u001b[39m\u001b[38;5;132;01m{\u001b[39;00mkey\u001b[38;5;132;01m}\u001b[39;00m\u001b[38;5;124m'\u001b[39m\u001b[38;5;124m not found. Use the dimensional version \u001b[39m\u001b[38;5;124m'\u001b[39m\u001b[38;5;132;01m{\u001b[39;00mk\u001b[38;5;132;01m}\u001b[39;00m\u001b[38;5;124m'\u001b[39m\u001b[38;5;124m instead.\u001b[39m\u001b[38;5;124m\"\u001b[39m\n\u001b[0;32m     94\u001b[0m         )\n\u001b[0;32m     95\u001b[0m \u001b[38;5;28;01mraise\u001b[39;00m \u001b[38;5;167;01mKeyError\u001b[39;00m(\u001b[38;5;124mf\u001b[39m\u001b[38;5;124m\"\u001b[39m\u001b[38;5;124m'\u001b[39m\u001b[38;5;132;01m{\u001b[39;00mkey\u001b[38;5;132;01m}\u001b[39;00m\u001b[38;5;124m'\u001b[39m\u001b[38;5;124m not found. Best matches are \u001b[39m\u001b[38;5;132;01m{\u001b[39;00mbest_matches\u001b[38;5;132;01m}\u001b[39;00m\u001b[38;5;124m\"\u001b[39m)\n",
      "\u001b[1;31mKeyError\u001b[0m: \"'X-averaged electrolyte concentration' not found. Use the dimensional version 'X-averaged electrolyte concentration [Molar]' instead.\""
     ]
    }
   ],
   "source": [
    "sim.plot([[\"X-averaged negative electrode potential [V]\", \"X-averaged electrolyte potential [V]\", \"X-averaged positive electrode potential [V]\"],\"X-averaged negative electrode potential [V]\", \"X-averaged electrolyte potential [V]\", \"X-averaged positive electrode potential [V]\",[\"Average negative particle concentration\",\"X-averaged electrolyte concentration\",\"Average positive particle concentration\"],\"Average negative particle concentration [mol.m-3]\",\"X-averaged electrolyte concentration [mol.m-3]\",\"Average positive particle concentration [mol.m-3]\"])\n"
   ]
  },
  {
   "cell_type": "markdown",
   "id": "a3dd0837",
   "metadata": {},
   "source": [
    "## Cell voltage component"
   ]
  },
  {
   "cell_type": "code",
   "execution_count": 36,
   "id": "063377ad",
   "metadata": {},
   "outputs": [
    {
     "data": {
      "image/png": "[encoded data removed]",
      "text/plain": [
       "<Figure size 800x400 with 1 Axes>"
      ]
     },
     "metadata": {},
     "output_type": "display_data"
    },
    {
     "data": {
      "text/plain": [
       "(<Figure size 800x400 with 1 Axes>, <Axes: xlabel='Time [h]'>)"
      ]
     },
     "execution_count": 36,
     "metadata": {},
     "output_type": "execute_result"
    }
   ],
   "source": [
    "pybamm.plot_voltage_components(sim.solution)"
   ]
  },
  {
   "cell_type": "code",
   "execution_count": 37,
   "id": "4977575e",
   "metadata": {},
   "outputs": [
    {
     "data": {
      "application/vnd.jupyter.widget-view+json": {
       "model_id": "81b511126ee746c89b5579fbbcb296bb",
       "version_major": 2,
       "version_minor": 0
      },
      "text/plain": [
       "interactive(children=(FloatSlider(value=0.0, description='t', max=600.0, step=6.0), Output()), _dom_classes=('…"
      ]
     },
     "metadata": {},
     "output_type": "display_data"
    },
    {
     "data": {
      "text/plain": [
       "<pybamm.plotting.quick_plot.QuickPlot at 0x190000c3450>"
      ]
     },
     "execution_count": 37,
     "metadata": {},
     "output_type": "execute_result"
    }
   ],
   "source": [
    "pybamm.dynamic_plot(sim.solution, [\"Terminal voltage [V]\"], time_unit=\"seconds\")    "
   ]
  },
  {
   "cell_type": "markdown",
   "id": "27cb8ea1",
   "metadata": {},
   "source": [
    "## Temperature"
   ]
  },
  {
   "cell_type": "code",
   "execution_count": null,
   "id": "2a451d63",
   "metadata": {},
   "outputs": [],
   "source": [
    "sim.plot([[\"X-averaged negative electrode temperature [K]\",\"X-averaged separator temperature [K]\",\"X-averaged positive electrode temperature [K]\"],\"Cell temperature [K]\",])"
   ]
  },
  {
   "cell_type": "code",
   "execution_count": null,
   "id": "af760400",
   "metadata": {},
   "outputs": [],
   "source": [
    "model.variable_names() "
   ]
  },
  {
   "cell_type": "code",
   "execution_count": null,
   "id": "f0149e2c",
   "metadata": {},
   "outputs": [],
   "source": [
    "model.variables.search(\"open\")"
   ]
  },
  {
   "cell_type": "code",
   "execution_count": null,
   "id": "69a1003d",
   "metadata": {},
   "outputs": [],
   "source": [
    "sim.plot([\"X-averaged negative electrode open circuit potential [V]\",\"X-averaged positive electrode open circuit potential [V]\",])"
   ]
  },
  {
   "cell_type": "markdown",
   "id": "973c1650",
   "metadata": {},
   "source": [
    "# Export to csv"
   ]
  },
  {
   "cell_type": "markdown",
   "id": "8d148f05",
   "metadata": {},
   "source": [
    "#### Access solution variables"
   ]
  },
  {
   "cell_type": "code",
   "execution_count": 38,
   "id": "63de18f6",
   "metadata": {},
   "outputs": [],
   "source": [
    "solution = sim.solution"
   ]
  },
  {
   "cell_type": "code",
   "execution_count": 39,
   "id": "c527dc7f",
   "metadata": {},
   "outputs": [
    {
     "data": {
      "image/png": "[encoded data removed]",
      "text/plain": [
       "<Figure size 640x480 with 1 Axes>"
      ]
     },
     "metadata": {},
     "output_type": "display_data"
    }
   ],
   "source": [
    "t = solution[\"Time [s]\"]\n",
    "V = solution[\"Terminal voltage [V]\"]\n",
    "# x = solution[\"x [m]\"]\n",
    "plt.plot(t.entries, V.entries)\n",
    "plt.show()"
   ]
  },
  {
   "cell_type": "markdown",
   "id": "35c0b6f0",
   "metadata": {},
   "source": [
    "_Averaged quantities_"
   ]
  },
  {
   "cell_type": "code",
   "execution_count": 40,
   "id": "187a4431",
   "metadata": {},
   "outputs": [],
   "source": [
    "save_avg_variables = [\"Time [s]\", \"Current [A]\", \"Terminal voltage [V]\",\"X-averaged negative electrode potential [V]\", \"X-averaged electrolyte potential [V]\", \"X-averaged positive electrode potential [V]\",\"Average negative particle concentration [mol.m-3]\",\"X-averaged electrolyte concentration [mol.m-3]\",\"Average positive particle concentration [mol.m-3]\"]\n",
    "solution.save_data(\"Averaged_quantities.csv\",save_avg_variables, to_format=\"csv\")"
   ]
  },
  {
   "cell_type": "markdown",
   "id": "65d2bb46",
   "metadata": {},
   "source": [
    "_Along thickness quantities_"
   ]
  },
  {
   "cell_type": "code",
   "execution_count": 41,
   "id": "b43b53ca",
   "metadata": {},
   "outputs": [],
   "source": [
    "# X and time axis\n",
    "x = solution[\"x [m]\"]\n",
    "x = x.entries[:,0]\n",
    "x = np.reshape(x, (-1, 1)) # 2d array of size (n,11)\n",
    "xn = solution[\"x_n [m]\"]\n",
    "xn = xn.entries[:,0]\n",
    "xn = np.reshape(xn, (-1, 1)) # 2d array of size (n,11)\n",
    "xp = solution[\"x_p [m]\"]\n",
    "xp = xp.entries[:,0]\n",
    "xp = np.reshape(xp, (-1, 1)) # 2d array of size (n,11)\n",
    "\n",
    "t = solution[\"Time [s]\"]\n",
    "t = np.concatenate(([-1], t.entries), axis=0)\n",
    "t = np.reshape(t, (1, -1)) # 2d array of size (n,11)"
   ]
  },
  {
   "cell_type": "code",
   "execution_count": 42,
   "id": "1f7ea155",
   "metadata": {},
   "outputs": [],
   "source": [
    "save_along_cell_thickness_variables = [\"Electrolyte potential [V]\",\"Electrolyte concentration [mol.m-3]\",\"Cell temperature [K]\"]\n",
    "for var in save_along_cell_thickness_variables:\n",
    "    with open((var + '.csv'),\"w+\") as my_csv:\n",
    "        csvWriter = csv.writer(my_csv,delimiter=',')\n",
    "        new = np.concatenate((x, solution[var].entries), axis=1) # Add thickness axis\n",
    "        new = np.concatenate((t, new), axis=0) # Add time axis\n",
    "        csvWriter.writerows(new)\n",
    "        \n",
    "save_along_anode_thickness_variables = [\"Negative electrode potential [V]\",\"R-averaged negative particle concentration [mol.m-3]\"]\n",
    "for var in save_along_anode_thickness_variables:\n",
    "    with open((var + '.csv'),\"w+\") as my_csv:\n",
    "        csvWriter = csv.writer(my_csv,delimiter=',')\n",
    "        new = np.concatenate((xn, solution[var].entries), axis=1) # Add thickness axis\n",
    "        new = np.concatenate((t, new), axis=0) # Add time axis\n",
    "        csvWriter.writerows(new)\n",
    "        \n",
    "save_along_cathode_thickness_variables = [\"Positive electrode potential [V]\",\"R-averaged positive particle concentration [mol.m-3]\"]\n",
    "for var in save_along_cathode_thickness_variables:\n",
    "    with open((var + '.csv'),\"w+\") as my_csv:\n",
    "        csvWriter = csv.writer(my_csv,delimiter=',')\n",
    "        new = np.concatenate((xp, solution[var].entries), axis=1) # Add thickness axis\n",
    "        new = np.concatenate((t, new), axis=0) # Add time axis\n",
    "        csvWriter.writerows(new)       \n",
    "\n",
    "        \n",
    "        \n",
    "        "
   ]
  },
  {
   "cell_type": "code",
   "execution_count": null,
   "id": "487b0c13",
   "metadata": {},
   "outputs": [],
   "source": [
    "t"
   ]
  },
  {
   "cell_type": "code",
   "execution_count": null,
   "id": "fe2ef9a8",
   "metadata": {},
   "outputs": [],
   "source": [
    "pwd"
   ]
  },
  {
   "cell_type": "code",
   "execution_count": null,
   "id": "f385ff88",
   "metadata": {},
   "outputs": [],
   "source": []
  },
  {
   "cell_type": "code",
   "execution_count": null,
   "id": "5a85d3cf",
   "metadata": {},
   "outputs": [],
   "source": []
  },
  {
   "cell_type": "code",
   "execution_count": null,
   "id": "b213fb05",
   "metadata": {},
   "outputs": [],
   "source": []
  },
  {
   "cell_type": "code",
   "execution_count": null,
   "id": "692a0b2d",
   "metadata": {},
   "outputs": [],
   "source": []
  }
 ],
 "metadata": {
  "kernelspec": {
   "display_name": "Python 3 (ipykernel)",
   "language": "python",
   "name": "python3"
  },
  "language_info": {
   "codemirror_mode": {
    "name": "ipython",
    "version": 3
   },
   "file_extension": ".py",
   "mimetype": "text/x-python",
   "name": "python",
   "nbconvert_exporter": "python",
   "pygments_lexer": "ipython3",
   "version": "3.11.7"
  }
 },
 "nbformat": 4,
 "nbformat_minor": 5
}
